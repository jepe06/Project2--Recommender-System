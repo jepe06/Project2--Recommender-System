{
 "cells": [
  {
   "cell_type": "markdown",
   "metadata": {},
   "source": [
    "# MODELO 1 - SEM GENERO E SEM UTILIZADOR: DUPLA OPTIMIZAÇÃO\n",
    "\n",
    "# :) "
   ]
  },
  {
   "cell_type": "code",
   "execution_count": 24,
   "metadata": {},
   "outputs": [],
   "source": [
    "import pandas as pd\n",
    "import numpy as np\n",
    "import json\n",
    "import matplotlib.pyplot as plt\n",
    "import warnings\n",
    "\n",
    "#warnings.filterwarnings(\"ignore\")\n",
    "\n",
    "plt.rcParams.update({\n",
    "    \"text.usetex\": True,              # If you want to use LaTeX fonts in text\n",
    "    \"font.family\": \"serif\",           # IEEE uses Times New Roman-like fonts\n",
    "    \"font.size\": 12,                   # General font size for IEEE format\n",
    "    \"axes.labelsize\": 12,              # Axis labels font size\n",
    "    \"legend.fontsize\": 11,             # Legend font size\n",
    "    \"xtick.labelsize\": 11,             # X-axis tick labels font size\n",
    "    \"ytick.labelsize\": 11,             # Y-axis tick labels font size\n",
    "    \"figure.figsize\": (5, 5*0.8),\n",
    "    \"savefig.dpi\": 300,               # DPI for high-quality PNG/JPEG\n",
    "})"
   ]
  },
  {
   "cell_type": "markdown",
   "metadata": {},
   "source": [
    "# Load the data"
   ]
  },
  {
   "cell_type": "code",
   "execution_count": 25,
   "metadata": {},
   "outputs": [],
   "source": [
    "df_train = pd.read_csv(\"data/data_train.csv\")\n",
    "df_test = pd.read_csv(\"data/data_test.csv\")"
   ]
  },
  {
   "cell_type": "code",
   "execution_count": 26,
   "metadata": {},
   "outputs": [
    {
     "data": {
      "text/plain": [
       "(9724, 610)"
      ]
     },
     "execution_count": 26,
     "metadata": {},
     "output_type": "execute_result"
    }
   ],
   "source": [
    "with open(\"data/data_ids.json\") as f:\n",
    "    ids = json.load(f)\n",
    "\n",
    "max_movieId = max(ids[\"moviesIDs\"].values())\n",
    "max_userId = max(ids[\"userIDs\"].values())\n",
    "\n",
    "# Create a matrix of users and movies\n",
    "base_matrix = np.zeros((max_movieId + 1, max_userId + 1))\n",
    "base_matrix.shape"
   ]
  },
  {
   "cell_type": "markdown",
   "metadata": {},
   "source": [
    "# Define functions"
   ]
  },
  {
   "cell_type": "code",
   "execution_count": 27,
   "metadata": {},
   "outputs": [],
   "source": [
    "# Utility matrix and Binary matrix\n",
    "from scipy.sparse import lil_matrix\n",
    "\n",
    "def utility_matrix_AND_binary_matrix(dfTrain, zerosMatrix = base_matrix, jsonIds = ids):\n",
    "    Y = lil_matrix(zerosMatrix.shape)  # Use sparse matrix format\n",
    "    R = lil_matrix(zerosMatrix.shape)\n",
    "    for i, row in dfTrain.iterrows():\n",
    "        original_movieId, original_userId = int(row[\"movieId\"]), int(row[\"userId\"])\n",
    "        movieId = jsonIds[\"moviesIDs\"][str(original_movieId)]\n",
    "        userId = jsonIds[\"userIDs\"][str(original_userId)]\n",
    "        Y[movieId, userId] = row[\"rating\"]\n",
    "        R[movieId, userId] = 1\n",
    "    return Y, R"
   ]
  },
  {
   "cell_type": "code",
   "execution_count": 28,
   "metadata": {},
   "outputs": [],
   "source": [
    "def cofiCostFunc(params, Y, R, num_users, num_movies, num_features, Lambda):\n",
    "    \"\"\"\n",
    "    Returns the cost and gradient for the collaborative filtering\n",
    "    Lambda - regularization parameter\n",
    "    \"\"\"\n",
    "        \n",
    "    # Unfold the params\n",
    "    X = params[:num_movies*num_features].reshape(num_movies,num_features)\n",
    "    Theta = params[num_movies*num_features:].reshape(num_users,num_features)\n",
    "    \n",
    "    predictions =  X @ Theta.T\n",
    "    err = (predictions - Y)\n",
    "    J = 1/2 * np.sum((err**2) * R)\n",
    "    \n",
    "    #compute regularized cost function\n",
    "    reg_X =  Lambda/2 * np.sum(Theta**2)\n",
    "    reg_Theta = Lambda/2 *np.sum(X**2)\n",
    "    reg_J = J + reg_X + reg_Theta\n",
    "    \n",
    "    # Compute gradient\n",
    "    X_grad = err*R @ Theta\n",
    "    Theta_grad = (err*R).T @ X\n",
    "    grad = np.append(X_grad.flatten(),Theta_grad.flatten())\n",
    "    \n",
    "    # Compute regularized gradient\n",
    "    reg_X_grad = X_grad + Lambda*X\n",
    "    reg_Theta_grad = Theta_grad + Lambda*Theta\n",
    "    reg_grad = np.append(reg_X_grad.flatten(),reg_Theta_grad.flatten())\n",
    "    \n",
    "    return J, grad, reg_J, reg_grad"
   ]
  },
  {
   "cell_type": "code",
   "execution_count": 29,
   "metadata": {},
   "outputs": [],
   "source": [
    "def gradientDescent(initial_parameters,Y,R,num_users,num_movies,num_features,alpha,num_iters,Lambda):\n",
    "    \"\"\"\n",
    "    alpha - learning rate\n",
    "    Optimize X and Theta\n",
    "    \"\"\"\n",
    "    # unfold the initial parameters (consult function cofiCostFunc)\n",
    "    X = initial_parameters[:num_movies*num_features].reshape(num_movies,num_features)\n",
    "    Theta = initial_parameters[num_movies*num_features:].reshape(num_users,num_features)\n",
    "    \n",
    "    J_history =[]\n",
    "    \n",
    "    for i in range(num_iters):\n",
    "        #Append into a single vector params X and Theta (see above)\n",
    "        params = np.append(X.flatten(),Theta.flatten())        \n",
    "        cost, grad = cofiCostFunc(params, Y, R, num_users, num_movies, num_features, Lambda)[2:]\n",
    "        \n",
    "        # unfold grad\n",
    "        X_grad = grad[:num_movies*num_features].reshape(num_movies,num_features)\n",
    "        Theta_grad = grad[num_movies*num_features:].reshape(num_users,num_features)\n",
    "        \n",
    "        #Update trainable parameters X & Theta applying gradient descent method\n",
    "        X = X - alpha*X_grad\n",
    "        \n",
    "        Theta = Theta - alpha*Theta_grad\n",
    "        \n",
    "        J_history.append(cost)\n",
    "    \n",
    "    #Append into a single vector paramsFinal the updated X and Theta\n",
    "    paramsFinal = np.append(X.flatten(),Theta.flatten())\n",
    "    return paramsFinal , J_history"
   ]
  },
  {
   "cell_type": "markdown",
   "metadata": {},
   "source": [
    "# Start modelling"
   ]
  },
  {
   "cell_type": "markdown",
   "metadata": {},
   "source": [
    "- split the df in 8 to do cv\n",
    "\n",
    "- define num of features to use: 20 because we have 20 diff genres of movies (02 data_vis.ipynb)"
   ]
  },
  {
   "cell_type": "code",
   "execution_count": 30,
   "metadata": {},
   "outputs": [
    {
     "name": "stderr",
     "output_type": "stream",
     "text": [
      "/opt/anaconda3/envs/FAA/lib/python3.10/site-packages/numpy/core/fromnumeric.py:59: FutureWarning: 'DataFrame.swapaxes' is deprecated and will be removed in a future version. Please use 'DataFrame.transpose' instead.\n",
      "  return bound(*args, **kwds)\n"
     ]
    }
   ],
   "source": [
    "# Shuffle the DataFrame randomly and split it into 8 parts\n",
    "df_shuffled = df_train.sample(frac=1, random_state=42).reset_index(drop=True)\n",
    "folds = np.array_split(df_shuffled, 8)\n",
    "\n",
    "# define the number of movies, users and features\n",
    "num_movies, num_users = base_matrix.shape\n",
    "num_features = 20"
   ]
  },
  {
   "cell_type": "markdown",
   "metadata": {},
   "source": [
    "optimize the hyperparameters of the model using 8cv and minimizing RMSE"
   ]
  },
  {
   "cell_type": "code",
   "execution_count": 31,
   "metadata": {},
   "outputs": [
    {
     "data": {
      "text/plain": [
       "''"
      ]
     },
     "execution_count": 31,
     "metadata": {},
     "output_type": "execute_result"
    }
   ],
   "source": [
    "\"\"\"Lambdas = [0, 5, 6, 7, 8, 10, 13, 15, 20, 25]\n",
    "alphas = [0.0001, 0.0004, 0.0005, 0.00065, 0.00075, 0.001, 0.0015]\n",
    "num_iters = 500\n",
    "\n",
    "combo = 1\n",
    "results = {}\n",
    "for Lambda in Lambdas:\n",
    "    for alpha in alphas:\n",
    "        print(f\"Combination {combo} of {len(Lambdas)*len(alphas)} with ({Lambda}, {alpha}):\", end=\" \") \n",
    "        combo += 1\n",
    "\n",
    "        avg_RMSE = 0\n",
    "        for exclude_index in range(8):\n",
    "            merged_df = pd.concat([part for i, part in enumerate(folds) if i != exclude_index])\n",
    "\n",
    "            # Create the utility matrix and the binary matrix\n",
    "            Y, R = utility_matrix_AND_binary_matrix(merged_df)\n",
    "            Y, R = Y.toarray(), R.toarray()\n",
    "\n",
    "            # Define the initial parameters\n",
    "            X = np.random.normal(loc=0, scale=0.3, size=(num_movies, num_features))\n",
    "            Theta = np.random.normal(loc=0, scale=0.3, size=(num_users, num_features))\n",
    "            params = np.append(X.flatten(),Theta.flatten())\n",
    "\n",
    "            # Apply gradient descent\n",
    "            param, jhist = gradientDescent(params,Y,R,num_users,num_movies,num_features,alpha,num_iters,Lambda)\n",
    "\n",
    "            # Unfold the final parameters\n",
    "            X = param[:num_movies*num_features].reshape(num_movies,num_features)\n",
    "            Theta = param[num_movies*num_features:].reshape(num_users,num_features)\n",
    "\n",
    "            # Predict all ratings of num_users for num_movies\n",
    "            p = X @ Theta.T\n",
    "\n",
    "            # Compute the RMSE\n",
    "            RMSE = 0\n",
    "            for i, row in folds[exclude_index].iterrows():\n",
    "                movieId_matrix = ids[\"moviesIDs\"][str(int(row[\"movieId\"]))]\n",
    "                userId_matrix = ids[\"userIDs\"][str(int(row[\"userId\"]))]\n",
    "                RMSE += abs(row[\"rating\"] - p[int(movieId_matrix), int(userId_matrix)])**2\n",
    "            RMSE = np.sqrt(RMSE/len(folds[exclude_index]))\n",
    "            print(f\"CV{exclude_index+1}: {RMSE:.1f}\", end=\", \")\n",
    "            avg_RMSE += RMSE/8\n",
    "        \n",
    "        results[(Lambda, alpha)] = avg_RMSE\n",
    "        print(\"\")\"\"\"\n",
    "\"\" # dont forget to remove results = results_stored "
   ]
  },
  {
   "cell_type": "code",
   "execution_count": 32,
   "metadata": {},
   "outputs": [],
   "source": [
    "results_stored = {(0, 0.0001): np.float64(1.4072155396070718),\n",
    " (0, 0.0004): np.float64(1.329441099136409),\n",
    " (0, 0.0005): np.float64(1.331832787510863),\n",
    " (0, 0.00065): np.float64(1.3538502353564172),\n",
    " (0, 0.00075): np.float64(1.3670562968234878),\n",
    " (0, 0.001): np.float64(1.399231907427166),\n",
    " (0, 0.0015): np.float64(1.5442264523301559),\n",
    " (5, 0.0001): np.float64(1.3916450159275262),\n",
    " (5, 0.0004): np.float64(1.2595971542706506),\n",
    " (5, 0.0005): np.float64(1.2615322851054707),\n",
    " (5, 0.00065): np.float64(1.2657603187182012),\n",
    " (5, 0.00075): np.float64(1.2660834153538214),\n",
    " (5, 0.001): np.float64(1.269235919121385),\n",
    " (5, 0.0015): np.float64(1.4281701904101156),\n",
    " (6, 0.0001): np.float64(1.3880787118397724),\n",
    " (6, 0.0004): np.float64(1.258036975590825),\n",
    " (6, 0.0005): np.float64(1.2562210608559057),\n",
    " (6, 0.00065): np.float64(1.2599197078509734),\n",
    " (6, 0.00075): np.float64(1.2651038137438524),\n",
    " (6, 0.001): np.float64(1.2720538908635541),\n",
    " (6, 0.0015): np.float64(1.4239594315407202),\n",
    " (7, 0.0001): np.float64(1.3870968421582952),\n",
    " (7, 0.0004): np.float64(1.257085789794418),\n",
    " (7, 0.0005): np.float64(1.2587336007461594),\n",
    " (7, 0.00065): np.float64(1.2610897726698738),\n",
    " (7, 0.00075): np.float64(1.261454195272955),\n",
    " (7, 0.001): np.float64(1.2686882792502265),\n",
    " (7, 0.0015): np.float64(1.4261456547158486),\n",
    " (8, 0.0001): np.float64(1.3875208059964381),\n",
    " (8, 0.0004): np.float64(1.2597372777982643),\n",
    " (8, 0.0005): np.float64(1.2608664814669375),\n",
    " (8, 0.00065): np.float64(1.2610153010253864),\n",
    " (8, 0.00075): np.float64(1.2661986155111122),\n",
    " (8, 0.001): np.float64(1.268767379532215),\n",
    " (8, 0.0015): np.float64(1.427841860737669),\n",
    " (10, 0.0001): np.float64(1.3949851967912197),\n",
    " (10, 0.0004): np.float64(1.268535044726058),\n",
    " (10, 0.0005): np.float64(1.2670007102849818),\n",
    " (10, 0.00065): np.float64(1.2689003396161314),\n",
    " (10, 0.00075): np.float64(1.2720601240889786),\n",
    " (10, 0.001): np.float64(1.272805366635899),\n",
    " (10, 0.0015): np.float64(1.430976705513454),\n",
    " (13, 0.0001): np.float64(1.409880100149872),\n",
    " (13, 0.0004): np.float64(1.287353201723529),\n",
    " (13, 0.0005): np.float64(1.2895666959086132),\n",
    " (13, 0.00065): np.float64(1.287528675568315),\n",
    " (13, 0.00075): np.float64(1.2884323185219257),\n",
    " (13, 0.001): np.float64(1.2901560328175044),\n",
    " (13, 0.0015): np.float64(1.4377377704540053),\n",
    " (15, 0.0001): np.float64(1.4169037535407742),\n",
    " (15, 0.0004): np.float64(1.3068190187900375),\n",
    " (15, 0.0005): np.float64(1.3055199617280704),\n",
    " (15, 0.00065): np.float64(1.3052878260700018),\n",
    " (15, 0.00075): np.float64(1.3045831918120192),\n",
    " (15, 0.001): np.float64(1.3033551677801687),\n",
    " (15, 0.0015): np.float64(1.4692610601649292),\n",
    " (20, 0.0001): np.float64(1.4504394250236607),\n",
    " (20, 0.0004): np.float64(1.355463913004609),\n",
    " (20, 0.0005): np.float64(1.3543914597866222),\n",
    " (20, 0.00065): np.float64(1.354246478082104),\n",
    " (20, 0.00075): np.float64(1.3534108633821984),\n",
    " (20, 0.001): np.float64(1.3523986904932916),\n",
    " (20, 0.0015): np.float64(1.4931745110271646),\n",
    " (25, 0.0001): np.float64(1.4892201242500134),\n",
    " (25, 0.0004): np.float64(1.4100417419616782),\n",
    " (25, 0.0005): np.float64(1.4092118984960929),\n",
    " (25, 0.00065): np.float64(1.4086409821798012),\n",
    " (25, 0.00075): np.float64(1.408302702030173),\n",
    " (25, 0.001): np.float64(1.4075217187634002),\n",
    " (25, 0.0015): np.float64(1.5297191660022733)}\n",
    "#results_stored\n",
    "results = results_stored.copy()"
   ]
  },
  {
   "cell_type": "code",
   "execution_count": 33,
   "metadata": {},
   "outputs": [
    {
     "data": {
      "image/png": "[encoded data removed]",
      "text/plain": [
       "<Figure size 800x600 with 2 Axes>"
      ]
     },
     "metadata": {},
     "output_type": "display_data"
    }
   ],
   "source": [
    "from scipy.interpolate import griddata\n",
    "\n",
    "# Extract x, y, and z values\n",
    "points = np.array(list(results.keys()))\n",
    "x, y = points[:, 0], points[:, 1]\n",
    "z = np.array(list(results.values()))\n",
    "\n",
    "# Create a grid for interpolation\n",
    "xi = np.linspace(min(x), max(x), 100)\n",
    "yi = np.linspace(min(y), max(y), 100)\n",
    "xi, yi = np.meshgrid(xi, yi)\n",
    "\n",
    "# Interpolate z values onto the grid\n",
    "zi = griddata(points, z, (xi, yi), method='cubic') #nearest, cubic, linear\n",
    "\n",
    "# Plot the topographic map\n",
    "plt.figure(figsize=(8, 6))\n",
    "contour = plt.contourf(xi, yi, zi, levels=50, cmap='viridis')\n",
    "plt.colorbar(contour, label='8-Fold Cross-Validation RMSE (500 iterations)')\n",
    "best_lambda, best_alpha = 6, 0.0005\n",
    "plt.scatter(best_lambda, best_alpha, color='red', s=20)\n",
    "plt.text(\n",
    "    best_lambda * 1.15, \n",
    "    best_alpha, \n",
    "    r\"$\\lambda$ = \" + f\"{best_lambda}\\n\" + r\"$\\alpha$ = \" + str(best_alpha), \n",
    "    fontsize=13.5, \n",
    "    color='black',\n",
    "    va = 'center',\n",
    "    bbox=dict(facecolor='white', edgecolor='black', boxstyle='round,pad=0.2', alpha=0.6)\n",
    ")\n",
    "plt.title('Fine-Tuning Collaborative Filtering (LR) Hyperparameters')\n",
    "plt.xlabel(r'Regularization Parameter ($\\lambda$)')\n",
    "plt.ylabel(r'Learning Rate ($\\alpha$)')\n",
    "plt.tight_layout()\n",
    "#plt.savefig(\"assets/model01_hyperparametres.png\")\n",
    "plt.show()"
   ]
  },
  {
   "cell_type": "code",
   "execution_count": 34,
   "metadata": {},
   "outputs": [
    {
     "name": "stdout",
     "output_type": "stream",
     "text": [
      "The best hyperparameters are: (6, 0.0005) with RMSE: 1.25622\n"
     ]
    }
   ],
   "source": [
    "# choose the best hyperparameters\n",
    "best_lambda, best_alpha = 6, 0.0005\n",
    "print(f\"The best hyperparameters are: ({best_lambda}, {best_alpha}) with RMSE: {results_stored[(best_lambda, best_alpha)]:.5f}\")"
   ]
  },
  {
   "cell_type": "markdown",
   "metadata": {},
   "source": [
    "# Evaluate the optimized model\n",
    "\n",
    "- predict all ratings\n",
    "\n",
    "- check convergence\n",
    "\n",
    "- calculate RMSE, MAE\n",
    "\n",
    "- ...\n",
    "\n",
    "- top 10 rated movies"
   ]
  },
  {
   "cell_type": "markdown",
   "metadata": {},
   "source": [
    "predict the all the ratings"
   ]
  },
  {
   "cell_type": "code",
   "execution_count": 35,
   "metadata": {},
   "outputs": [],
   "source": [
    "# Create the utility matrix and the binary matrix\n",
    "Y, R = utility_matrix_AND_binary_matrix(df_train)\n",
    "Y, R = Y.toarray(), R.toarray()\n",
    "\n",
    "# Define the initial parameters\n",
    "X = np.random.normal(loc=0, scale=0.3, size=(num_movies, num_features))\n",
    "Theta = np.random.normal(loc=0, scale=0.3, size=(num_users, num_features))\n",
    "params = np.append(X.flatten(),Theta.flatten())\n",
    "\n",
    "# Apply gradient descent\n",
    "param, jhist = gradientDescent(params,Y,R,num_users,num_movies,num_features,best_alpha,750,best_lambda)\n",
    "\n",
    "# Unfold the final parameters\n",
    "X = param[:num_movies*num_features].reshape(num_movies,num_features)\n",
    "Theta = param[num_movies*num_features:].reshape(num_users,num_features)\n",
    "\n",
    "# Predict all ratings of num_users for num_movies\n",
    "p = X @ Theta.T"
   ]
  },
  {
   "cell_type": "markdown",
   "metadata": {},
   "source": [
    "cost function convergence"
   ]
  },
  {
   "cell_type": "code",
   "execution_count": 36,
   "metadata": {},
   "outputs": [
    {
     "data": {
      "image/png": "[encoded data removed]",
      "text/plain": [
       "<Figure size 500x400 with 1 Axes>"
      ]
     },
     "metadata": {},
     "output_type": "display_data"
    }
   ],
   "source": [
    "plt.plot(jhist)\n",
    "plt.title(\"Cost Function Over Iterations\")\n",
    "plt.xlabel(\"Number of Iterations\")\n",
    "plt.ylabel(r\"Cost Function ($J(\\theta , x)$)\")\n",
    "plt.tight_layout()\n",
    "#plt.savefig(\"assets/model01_cost_function.png\")\n",
    "plt.show()"
   ]
  },
  {
   "cell_type": "markdown",
   "metadata": {},
   "source": [
    "rmse"
   ]
  },
  {
   "cell_type": "code",
   "execution_count": 37,
   "metadata": {},
   "outputs": [
    {
     "name": "stdout",
     "output_type": "stream",
     "text": [
      "RMSE for train set: 0.58739\n",
      "RMSE for test set: 1.23298\n"
     ]
    }
   ],
   "source": [
    "df_to_evaluate = df_train\n",
    "RMSE = 0\n",
    "for i, row in df_to_evaluate.iterrows():\n",
    "    movieId_matrix = ids[\"moviesIDs\"][str(int(row[\"movieId\"]))]\n",
    "    userId_matrix = ids[\"userIDs\"][str(int(row[\"userId\"]))]\n",
    "    RMSE += abs(row[\"rating\"] - p[int(movieId_matrix), int(userId_matrix)])**2\n",
    "RMSE = np.sqrt(RMSE/len(df_to_evaluate))\n",
    "print(f\"RMSE for train set: {RMSE:.5f}\")\n",
    "\n",
    "df_to_evaluate = df_test\n",
    "RMSE = 0\n",
    "for i, row in df_to_evaluate.iterrows():\n",
    "    movieId_matrix = ids[\"moviesIDs\"][str(int(row[\"movieId\"]))]\n",
    "    userId_matrix = ids[\"userIDs\"][str(int(row[\"userId\"]))]\n",
    "    RMSE += abs(row[\"rating\"] - p[int(movieId_matrix), int(userId_matrix)])**2\n",
    "RMSE = np.sqrt(RMSE/len(df_to_evaluate))\n",
    "print(f\"RMSE for test set: {RMSE:.5f}\")"
   ]
  },
  {
   "cell_type": "markdown",
   "metadata": {},
   "source": [
    "mae"
   ]
  },
  {
   "cell_type": "code",
   "execution_count": 38,
   "metadata": {},
   "outputs": [
    {
     "name": "stdout",
     "output_type": "stream",
     "text": [
      "MAE for train set: 0.44615\n",
      "MAE for train set: 0.90069\n"
     ]
    }
   ],
   "source": [
    "df_to_evaluate = df_train\n",
    "MAE = 0\n",
    "for i, row in df_to_evaluate.iterrows():\n",
    "    movieId_matrix = ids[\"moviesIDs\"][str(int(row[\"movieId\"]))]\n",
    "    userId_matrix = ids[\"userIDs\"][str(int(row[\"userId\"]))]\n",
    "    MAE += abs(row[\"rating\"] - p[int(movieId_matrix), int(userId_matrix)])\n",
    "MAE = MAE/len(df_to_evaluate)\n",
    "print(f\"MAE for train set: {MAE:.5f}\")\n",
    "\n",
    "df_to_evaluate = df_test\n",
    "MAE = 0\n",
    "for i, row in df_to_evaluate.iterrows():\n",
    "    movieId_matrix = ids[\"moviesIDs\"][str(int(row[\"movieId\"]))]\n",
    "    userId_matrix = ids[\"userIDs\"][str(int(row[\"userId\"]))]\n",
    "    MAE += abs(row[\"rating\"] - p[int(movieId_matrix), int(userId_matrix)])\n",
    "MAE = MAE/len(df_to_evaluate)\n",
    "print(f\"MAE for train set: {MAE:.5f}\")"
   ]
  },
  {
   "cell_type": "markdown",
   "metadata": {},
   "source": [
    "learning curve ??"
   ]
  },
  {
   "cell_type": "code",
   "execution_count": 39,
   "metadata": {},
   "outputs": [
    {
     "data": {
      "text/plain": [
       "''"
      ]
     },
     "execution_count": 39,
     "metadata": {},
     "output_type": "execute_result"
    }
   ],
   "source": [
    "\"\"\"# Create the utility matrix and the binary matrix\n",
    "Y, R = utility_matrix_AND_binary_matrix(df_train)\n",
    "Y, R = Y.toarray(), R.toarray()\n",
    "\n",
    "\n",
    "# Shuffle the DataFrame randomly and split it into 8 parts\n",
    "df_shuffled = df_train.sample(frac=1, random_state=42).reset_index(drop=True)\n",
    "folds = np.array_split(df_shuffled, 8)\n",
    "\n",
    "dict_RMSE = {}\n",
    "for fold in range(8):\n",
    "    merged_df = pd.concat([part for i, part in enumerate(folds) if i != fold])\n",
    "    Y, R = utility_matrix_AND_binary_matrix(merged_df)\n",
    "    Y, R = Y.toarray(), R.toarray()\n",
    "\n",
    "    # Define the initial parameters\n",
    "    X = np.random.normal(loc=0, scale=0.3, size=(num_movies, num_features))\n",
    "    Theta = np.random.normal(loc=0, scale=0.3, size=(num_users, num_features))\n",
    "    params = np.append(X.flatten(),Theta.flatten())\n",
    "    for iterations in range(0, 751, 150):\n",
    "    \n",
    "        # Apply gradient descent\n",
    "        param, jhist = gradientDescent(params,Y,R,num_users,num_movies,num_features,best_alpha,iterations+1,best_lambda)\n",
    "\n",
    "        # Unfold the final parameters\n",
    "        X = param[:num_movies*num_features].reshape(num_movies,num_features)\n",
    "        Theta = param[num_movies*num_features:].reshape(num_users,num_features)\n",
    "\n",
    "        # Predict all ratings of num_users for num_movies\n",
    "        p = X @ Theta.T\n",
    "\n",
    "        df_to_evaluate = folds[fold]\n",
    "        RMSE = 0\n",
    "        for i, row in df_to_evaluate.iterrows():\n",
    "            movieId_matrix = ids[\"moviesIDs\"][str(int(row[\"movieId\"]))]\n",
    "            userId_matrix = ids[\"userIDs\"][str(int(row[\"userId\"]))]\n",
    "            RMSE += abs(row[\"rating\"] - p[int(movieId_matrix), int(userId_matrix)])**2\n",
    "        RMSE = np.sqrt(RMSE/len(df_to_evaluate))\n",
    "        dict_RMSE[(fold, iterations, \"test\")] = RMSE\n",
    "\n",
    "        df_to_evaluate = merged_df\n",
    "        RMSE = 0\n",
    "        for i, row in df_to_evaluate.iterrows():\n",
    "            movieId_matrix = ids[\"moviesIDs\"][str(int(row[\"movieId\"]))]\n",
    "            userId_matrix = ids[\"userIDs\"][str(int(row[\"userId\"]))]\n",
    "            RMSE += abs(row[\"rating\"] - p[int(movieId_matrix), int(userId_matrix)])**2\n",
    "        RMSE = np.sqrt(RMSE/len(df_to_evaluate))\n",
    "        dict_RMSE[(fold, iterations, \"train\")] = RMSE\n",
    "\n",
    "        print(f\"Fold {fold+1} with {iterations+1} in iterations: done\")\"\"\"\n",
    "\"\" # dont forget to remove dict_RMSE = dict_RMSE_stored"
   ]
  },
  {
   "cell_type": "code",
   "execution_count": 40,
   "metadata": {},
   "outputs": [
    {
     "data": {
      "text/plain": [
       "''"
      ]
     },
     "execution_count": 40,
     "metadata": {},
     "output_type": "execute_result"
    }
   ],
   "source": [
    "\"\"\"# Create the utility matrix and the binary matrix\n",
    "Y, R = utility_matrix_AND_binary_matrix(df_train)\n",
    "Y, R = Y.toarray(), R.toarray()\n",
    "\n",
    "\n",
    "# Shuffle the DataFrame randomly and split it into 8 parts\n",
    "df_shuffled = df_train.sample(frac=1, random_state=42).reset_index(drop=True)\n",
    "folds = np.array_split(df_shuffled, 8)\n",
    "\n",
    "dict_RMSE = {}\n",
    "for fold in range(8):\n",
    "    merged_df = pd.concat([part for i, part in enumerate(folds) if i != fold])\n",
    "\n",
    "    # Define the initial parameters\n",
    "    X = np.random.normal(loc=0, scale=0.3, size=(num_movies, num_features))\n",
    "    Theta = np.random.normal(loc=0, scale=0.3, size=(num_users, num_features))\n",
    "    params = np.append(X.flatten(),Theta.flatten())\n",
    "    for train_set_size in [0.1, 0.2, 0.3, 0.4, 0.5, 0.6, 0.7, 0.8, 0.9, 1.0]:\n",
    "\n",
    "        merged_df_sized = merged_df.sample(frac=train_set_size, random_state=42)\n",
    "\n",
    "        Y, R = utility_matrix_AND_binary_matrix(merged_df_sized)\n",
    "        Y, R = Y.toarray(), R.toarray()\n",
    "\n",
    "        \n",
    "    \n",
    "        # Apply gradient descent\n",
    "        param, jhist = gradientDescent(params,Y,R,num_users,num_movies,num_features,best_alpha,750,best_lambda)\n",
    "\n",
    "        # Unfold the final parameters\n",
    "        X = param[:num_movies*num_features].reshape(num_movies,num_features)\n",
    "        Theta = param[num_movies*num_features:].reshape(num_users,num_features)\n",
    "\n",
    "        # Predict all ratings of num_users for num_movies\n",
    "        p = X @ Theta.T\n",
    "\n",
    "        df_to_evaluate = folds[fold]\n",
    "        RMSE = 0\n",
    "        for i, row in df_to_evaluate.iterrows():\n",
    "            movieId_matrix = ids[\"moviesIDs\"][str(int(row[\"movieId\"]))]\n",
    "            userId_matrix = ids[\"userIDs\"][str(int(row[\"userId\"]))]\n",
    "            RMSE += abs(row[\"rating\"] - p[int(movieId_matrix), int(userId_matrix)])**2\n",
    "        RMSE = np.sqrt(RMSE/len(df_to_evaluate))\n",
    "        dict_RMSE[(fold, train_set_size, \"test\")] = RMSE\n",
    "\n",
    "        df_to_evaluate = merged_df\n",
    "        RMSE = 0\n",
    "        for i, row in df_to_evaluate.iterrows():\n",
    "            movieId_matrix = ids[\"moviesIDs\"][str(int(row[\"movieId\"]))]\n",
    "            userId_matrix = ids[\"userIDs\"][str(int(row[\"userId\"]))]\n",
    "            RMSE += abs(row[\"rating\"] - p[int(movieId_matrix), int(userId_matrix)])**2\n",
    "        RMSE = np.sqrt(RMSE/len(df_to_evaluate))\n",
    "        dict_RMSE[(fold, train_set_size, \"train\")] = RMSE\n",
    "\n",
    "        print(f\"Fold {fold+1} with {train_set_size} in train_set_size: done\")\"\"\"\n",
    "\"\""
   ]
  },
  {
   "cell_type": "code",
   "execution_count": 41,
   "metadata": {},
   "outputs": [],
   "source": [
    "dict_RMSE_stored_TrainSIZE = {(0, 0.1, 'test'): 2.773463391393424,\n",
    " (0, 0.1, 'train'): 2.677702888923426,\n",
    " (0, 0.2, 'test'): 2.045077710180417,\n",
    " (0, 0.2, 'train'): 1.898628912684764,\n",
    " (0, 0.3, 'test'): 1.7680407400358884,\n",
    " (0, 0.3, 'train'): 1.5551110181016075,\n",
    " (0, 0.4, 'test'): 1.6075772742093992,\n",
    " (0, 0.4, 'train'): 1.3319171672643173,\n",
    " (0, 0.5, 'test'): 1.5045805475107379,\n",
    " (0, 0.5, 'train'): 1.1709411249570845,\n",
    " (0, 0.6, 'test'): 1.435154218563347,\n",
    " (0, 0.6, 'train'): 1.0425708085351237,\n",
    " (0, 0.7, 'test'): 1.373432900116361,\n",
    " (0, 0.7, 'train'): 0.9237437770061945,\n",
    " (0, 0.8, 'test'): 1.3314757083429805,\n",
    " (0, 0.8, 'train'): 0.8122425165148609,\n",
    " (0, 0.9, 'test'): 1.2944032306787363,\n",
    " (0, 0.9, 'train'): 0.705366688476143,\n",
    " (0, 1.0, 'test'): 1.2541730130501525,\n",
    " (0, 1.0, 'train'): 0.5971952137345173,\n",
    " (1, 0.1, 'test'): 2.8820950327897754,\n",
    " (1, 0.1, 'train'): 2.780609707863023,\n",
    " (1, 0.2, 'test'): 2.0930026957593633,\n",
    " (1, 0.2, 'train'): 1.9329463814144607,\n",
    " (1, 0.3, 'test'): 1.769089092355633,\n",
    " (1, 0.3, 'train'): 1.5635886178679896,\n",
    " (1, 0.4, 'test'): 1.5992153459390226,\n",
    " (1, 0.4, 'train'): 1.3377871963309986,\n",
    " (1, 0.5, 'test'): 1.494207940334407,\n",
    " (1, 0.5, 'train'): 1.1787153651947286,\n",
    " (1, 0.6, 'test'): 1.4152207735446172,\n",
    " (1, 0.6, 'train'): 1.0426988007408984,\n",
    " (1, 0.7, 'test'): 1.357033149286446,\n",
    " (1, 0.7, 'train'): 0.9198828319128605,\n",
    " (1, 0.8, 'test'): 1.3097379963781104,\n",
    " (1, 0.8, 'train'): 0.8120724550109534,\n",
    " (1, 0.9, 'test'): 1.2723570926582004,\n",
    " (1, 0.9, 'train'): 0.7020008776446228,\n",
    " (1, 1.0, 'test'): 1.2461749474666997,\n",
    " (1, 1.0, 'train'): 0.5953874102053499,\n",
    " (2, 0.1, 'test'): 2.7776873129323185,\n",
    " (2, 0.1, 'train'): 2.6711533311153355,\n",
    " (2, 0.2, 'test'): 2.049535013602958,\n",
    " (2, 0.2, 'train'): 1.892418532324455,\n",
    " (2, 0.3, 'test'): 1.7606176234958888,\n",
    " (2, 0.3, 'train'): 1.5488606609719298,\n",
    " (2, 0.4, 'test'): 1.6057457235497046,\n",
    " (2, 0.4, 'train'): 1.330297028042886,\n",
    " (2, 0.5, 'test'): 1.5091921848183574,\n",
    " (2, 0.5, 'train'): 1.1753139309147749,\n",
    " (2, 0.6, 'test'): 1.4354325861056385,\n",
    " (2, 0.6, 'train'): 1.0425628716905002,\n",
    " (2, 0.7, 'test'): 1.3825262879575702,\n",
    " (2, 0.7, 'train'): 0.921755292391535,\n",
    " (2, 0.8, 'test'): 1.3408196804130978,\n",
    " (2, 0.8, 'train'): 0.8138759342112847,\n",
    " (2, 0.9, 'test'): 1.3025884907776333,\n",
    " (2, 0.9, 'train'): 0.7045690263044528,\n",
    " (2, 1.0, 'test'): 1.2696700525451137,\n",
    " (2, 1.0, 'train'): 0.594836397013211,\n",
    " (3, 0.1, 'test'): 2.821217170918579,\n",
    " (3, 0.1, 'train'): 2.7034511638086376,\n",
    " (3, 0.2, 'test'): 2.0610214538636877,\n",
    " (3, 0.2, 'train'): 1.8819755328091443,\n",
    " (3, 0.3, 'test'): 1.7777420815055596,\n",
    " (3, 0.3, 'train'): 1.5434523482576918,\n",
    " (3, 0.4, 'test'): 1.6097849676438691,\n",
    " (3, 0.4, 'train'): 1.3270259758987082,\n",
    " (3, 0.5, 'test'): 1.5057462189285884,\n",
    " (3, 0.5, 'train'): 1.1719314348238026,\n",
    " (3, 0.6, 'test'): 1.430718375001047,\n",
    " (3, 0.6, 'train'): 1.03745020256673,\n",
    " (3, 0.7, 'test'): 1.3769738580753286,\n",
    " (3, 0.7, 'train'): 0.9148889452727305,\n",
    " (3, 0.8, 'test'): 1.3307608685303833,\n",
    " (3, 0.8, 'train'): 0.8097364978399672,\n",
    " (3, 0.9, 'test'): 1.291872157404178,\n",
    " (3, 0.9, 'train'): 0.7025968968783802,\n",
    " (3, 1.0, 'test'): 1.2600747161763053,\n",
    " (3, 1.0, 'train'): 0.5960966212710681,\n",
    " (4, 0.1, 'test'): 2.9173593549039785,\n",
    " (4, 0.1, 'train'): 2.7937879036018423,\n",
    " (4, 0.2, 'test'): 2.0905631828000235,\n",
    " (4, 0.2, 'train'): 1.8995266327234774,\n",
    " (4, 0.3, 'test'): 1.7981697959959146,\n",
    " (4, 0.3, 'train'): 1.5518434748563879,\n",
    " (4, 0.4, 'test'): 1.628747040872785,\n",
    " (4, 0.4, 'train'): 1.3345121123248014,\n",
    " (4, 0.5, 'test'): 1.5227337305628674,\n",
    " (4, 0.5, 'train'): 1.1713789911403631,\n",
    " (4, 0.6, 'test'): 1.4521336758602772,\n",
    " (4, 0.6, 'train'): 1.0359066647053474,\n",
    " (4, 0.7, 'test'): 1.3914832856188726,\n",
    " (4, 0.7, 'train'): 0.9150899229595371,\n",
    " (4, 0.8, 'test'): 1.345791050948727,\n",
    " (4, 0.8, 'train'): 0.8080017542365115,\n",
    " (4, 0.9, 'test'): 1.308867128455928,\n",
    " (4, 0.9, 'train'): 0.7053433814386691,\n",
    " (4, 1.0, 'test'): 1.2769724619300067,\n",
    " (4, 1.0, 'train'): 0.5958101224232247,\n",
    " (5, 0.1, 'test'): 2.786034278658483,\n",
    " (5, 0.1, 'train'): 2.6641881640685026,\n",
    " (5, 0.2, 'test'): 2.0584846391425464,\n",
    " (5, 0.2, 'train'): 1.8727391650737972,\n",
    " (5, 0.3, 'test'): 1.7826475103177797,\n",
    " (5, 0.3, 'train'): 1.5405631200071979,\n",
    " (5, 0.4, 'test'): 1.6296843961300227,\n",
    " (5, 0.4, 'train'): 1.3284412480725927,\n",
    " (5, 0.5, 'test'): 1.5301987846794312,\n",
    " (5, 0.5, 'train'): 1.1701802356010595,\n",
    " (5, 0.6, 'test'): 1.4544879809333848,\n",
    " (5, 0.6, 'train'): 1.0366775071257122,\n",
    " (5, 0.7, 'test'): 1.3951223563334383,\n",
    " (5, 0.7, 'train'): 0.9150931982110921,\n",
    " (5, 0.8, 'test'): 1.348814089115429,\n",
    " (5, 0.8, 'train'): 0.8079256109527201,\n",
    " (5, 0.9, 'test'): 1.309234376880654,\n",
    " (5, 0.9, 'train'): 0.7061819893647137,\n",
    " (5, 1.0, 'test'): 1.275415579418688,\n",
    " (5, 1.0, 'train'): 0.5964790869125207,\n",
    " (6, 0.1, 'test'): 2.8270148740215593,\n",
    " (6, 0.1, 'train'): 2.7046002375597737,\n",
    " (6, 0.2, 'test'): 2.0714064235097447,\n",
    " (6, 0.2, 'train'): 1.8871728154328935,\n",
    " (6, 0.3, 'test'): 1.7816137237965077,\n",
    " (6, 0.3, 'train'): 1.5437881753881175,\n",
    " (6, 0.4, 'test'): 1.6187724358545252,\n",
    " (6, 0.4, 'train'): 1.3329753062135707,\n",
    " (6, 0.5, 'test'): 1.5071669728510868,\n",
    " (6, 0.5, 'train'): 1.1683363119062646,\n",
    " (6, 0.6, 'test'): 1.4318414946423592,\n",
    " (6, 0.6, 'train'): 1.0358835338503574,\n",
    " (6, 0.7, 'test'): 1.3760357219751913,\n",
    " (6, 0.7, 'train'): 0.9163253933241662,\n",
    " (6, 0.8, 'test'): 1.339574172768885,\n",
    " (6, 0.8, 'train'): 0.8101019134624223,\n",
    " (6, 0.9, 'test'): 1.2971141611629478,\n",
    " (6, 0.9, 'train'): 0.705095913981014,\n",
    " (6, 1.0, 'test'): 1.271285778431972,\n",
    " (6, 1.0, 'train'): 0.595519016872035,\n",
    " (7, 0.1, 'test'): 2.815159975152025,\n",
    " (7, 0.1, 'train'): 2.6912184234048784,\n",
    " (7, 0.2, 'test'): 2.0720933298579554,\n",
    " (7, 0.2, 'train'): 1.8832561300492168,\n",
    " (7, 0.3, 'test'): 1.78278186010653,\n",
    " (7, 0.3, 'train'): 1.545004034903859,\n",
    " (7, 0.4, 'test'): 1.632060227128058,\n",
    " (7, 0.4, 'train'): 1.338226625485982,\n",
    " (7, 0.5, 'test'): 1.5303196972883404,\n",
    " (7, 0.5, 'train'): 1.1761736015915498,\n",
    " (7, 0.6, 'test'): 1.4466641274462244,\n",
    " (7, 0.6, 'train'): 1.0427933680784016,\n",
    " (7, 0.7, 'test'): 1.3894442729648777,\n",
    " (7, 0.7, 'train'): 0.924014121342054,\n",
    " (7, 0.8, 'test'): 1.3463665283725184,\n",
    " (7, 0.8, 'train'): 0.8139079807128469,\n",
    " (7, 0.9, 'test'): 1.3109158863017933,\n",
    " (7, 0.9, 'train'): 0.7078510998306543,\n",
    " (7, 1.0, 'test'): 1.2741567068147863,\n",
    " (7, 1.0, 'train'): 0.5951922558968368}"
   ]
  },
  {
   "cell_type": "code",
   "execution_count": null,
   "metadata": {},
   "outputs": [
    {
     "data": {
      "image/png": "[encoded data removed]",
      "text/plain": [
       "<Figure size 800x500 with 1 Axes>"
      ]
     },
     "metadata": {},
     "output_type": "display_data"
    }
   ],
   "source": [
    "import matplotlib.pyplot as plt\n",
    "import numpy as np\n",
    "from collections import defaultdict\n",
    "\n",
    "#data = dict_RMSE_stored_ITERATIONS\n",
    "data = dict_RMSE_stored_TrainSIZE\n",
    "\n",
    "\n",
    "def plot_learning_curve(dataset):\n",
    "    # Step 1: Group by j\n",
    "    grouped_data = defaultdict(list)\n",
    "    for (i, j, set), k in data.items():\n",
    "        if set == dataset and j != 0:\n",
    "            grouped_data[j].append(k)\n",
    "\n",
    "    # Step 2: Calculate statistics\n",
    "    mean_accuracy = []\n",
    "    std_accuracy = []\n",
    "    min_a = []\n",
    "    max_a = []\n",
    "    iterations = sorted(grouped_data.keys())  # Ensure ordered by j\n",
    "\n",
    "    for j in iterations:\n",
    "        values = grouped_data[j]\n",
    "        mean_accuracy.append(np.mean(values))\n",
    "        std_accuracy.append(np.std(values))\n",
    "        min_a.append(np.min(values))\n",
    "        max_a.append(np.max(values))\n",
    "\n",
    "    # Step 3: Plot the curve with shaded area\n",
    "    mean_accuracy = np.array(mean_accuracy)\n",
    "    std_accuracy = np.array(std_accuracy)\n",
    "\n",
    "    if dataset == \"train\":\n",
    "        plt.plot(np.array(iterations)*100, mean_accuracy, \"-o\", label=\"Training score\", color=\"blue\")\n",
    "        plt.fill_between(\n",
    "            np.array(iterations)*100, \n",
    "            min_a, #mean_accuracy - std_accuracy, \n",
    "            max_a, #mean_accuracy + std_accuracy, \n",
    "            color=\"blue\", alpha=0.2\n",
    "        )\n",
    "    else:\n",
    "        plt.plot(np.array(iterations)*100, mean_accuracy, \"-o\", label=\"Cross-validation score\", color=\"green\")\n",
    "        plt.fill_between(\n",
    "            np.array(iterations)*100, \n",
    "            min_a, #mean_accuracy - std_accuracy, \n",
    "            max_a, #mean_accuracy + std_accuracy, \n",
    "            color=\"green\", alpha=0.2\n",
    "        )\n",
    "\n",
    "plt.figure(figsize=(8, 5))\n",
    "plot_learning_curve(\"train\")\n",
    "plot_learning_curve(\"test\")\n",
    "\n",
    "# Step 4: Add labels and legend\n",
    "plt.xlabel(r\"Train Set Size (\\%)\")\n",
    "plt.ylabel(\"8-Fold Cross-Validation RMSE\")\n",
    "plt.title(\"Learning Curve for Collaborative Filtering (LR)\")\n",
    "plt.legend()\n",
    "plt.grid()\n",
    "plt.tight_layout()\n",
    "#plt.savefig(\"assets/model01_learning_curve.png\")\n",
    "plt.show()\n"
   ]
  },
  {
   "cell_type": "markdown",
   "metadata": {},
   "source": [
    "top 10 rated movies (predicted)\n",
    "\n",
    "nota: como temos muitos missing values, acho q nao ha problema em incluir os dados de treino"
   ]
  },
  {
   "cell_type": "code",
   "execution_count": 44,
   "metadata": {},
   "outputs": [
    {
     "name": "stdout",
     "output_type": "stream",
     "text": [
      "Top 10 matrix rows: [ 277  257  461  510  314  899  224   46 1938 1733]\n",
      "Top 10 avg. ratings: [4.36 4.15 4.13 4.12 4.11 4.1  4.1  4.09 4.   3.99]\n",
      "\n",
      "Top 10 movies:\n",
      "318: Shawshank Redemption, The (1994)\n",
      "296: Pulp Fiction (1994)\n",
      "527: Schindler's List (1993)\n",
      "593: Silence of the Lambs, The (1991)\n",
      "356: Forrest Gump (1994)\n",
      "1198: Raiders of the Lost Ark (Indiana Jones and the Raiders of the Lost Ark) (1981)\n",
      "260: Star Wars: Episode IV - A New Hope (1977)\n",
      "50: Usual Suspects, The (1995)\n",
      "2571: Matrix, The (1999)\n",
      "2329: American History X (1998)\n"
     ]
    }
   ],
   "source": [
    "movies_avg_ratings = np.mean(p, axis=1)\n",
    "\n",
    "sorted_indices = np.argsort(movies_avg_ratings)[::-1]\n",
    "top_10_indices = sorted_indices[:10]\n",
    "\n",
    "print(\"Top 10 matrix rows:\", top_10_indices)\n",
    "print(\"Top 10 avg. ratings:\", np.round(movies_avg_ratings[top_10_indices], 2))\n",
    "\n",
    "moviesId = []\n",
    "for movie in top_10_indices:\n",
    "    key = next(k for k, v in ids[\"moviesIDs\"].items() if v == movie)\n",
    "    moviesId.append(int(key))\n",
    "movies_names = pd.read_csv(\"data/movies.csv\")\n",
    "print(\"\\nTop 10 movies:\")\n",
    "for movieId in moviesId:\n",
    "    print(f'{movieId}: {movies_names[movies_names[\"movieId\"] == movieId][\"title\"].values[0]}')"
   ]
  },
  {
   "cell_type": "markdown",
   "metadata": {},
   "source": [
    "# saving the model"
   ]
  },
  {
   "cell_type": "code",
   "execution_count": 45,
   "metadata": {},
   "outputs": [
    {
     "data": {
      "text/plain": [
       "''"
      ]
     },
     "execution_count": 45,
     "metadata": {},
     "output_type": "execute_result"
    }
   ],
   "source": [
    "dicio = {\"model01\": {\"x\": X.tolist(), \"theta\": Theta.tolist(), \"lambda\": best_lambda, \"alpha\": best_alpha, \"iterations\": 750}}\n",
    "\n",
    "\"\"\"import json\n",
    "with open(\"models.json\", \"w\") as file:\n",
    "    json.dump(dicio, file, indent=4)\"\"\"\n",
    "\"\" # dont save all the time"
   ]
  },
  {
   "cell_type": "code",
   "execution_count": 46,
   "metadata": {},
   "outputs": [
    {
     "data": {
      "text/plain": [
       "''"
      ]
     },
     "execution_count": 46,
     "metadata": {},
     "output_type": "execute_result"
    }
   ],
   "source": [
    "\"\"\"import numpy as np\n",
    "import json\n",
    "\n",
    "# Load the data from the JSON file\n",
    "with open(\"models.json\", \"r\") as file:\n",
    "    dicio_loaded = json.load(file)\n",
    "\n",
    "# Convert the lists back to NumPy arrays\n",
    "X_loaded = np.array(dicio_loaded[\"model01\"][\"x\"])\n",
    "Theta_loaded = np.array(dicio_loaded[\"model01\"][\"theta\"])\n",
    "\"\"\" \n",
    "\"\" # check if it works"
   ]
  },
  {
   "cell_type": "code",
   "execution_count": null,
   "metadata": {},
   "outputs": [],
   "source": []
  }
 ],
 "metadata": {
  "kernelspec": {
   "display_name": "FAA",
   "language": "python",
   "name": "python3"
  },
  "language_info": {
   "codemirror_mode": {
    "name": "ipython",
    "version": 3
   },
   "file_extension": ".py",
   "mimetype": "text/x-python",
   "name": "python",
   "nbconvert_exporter": "python",
   "pygments_lexer": "ipython3",
   "version": "3.10.15"
  }
 },
 "nbformat": 4,
 "nbformat_minor": 2
}

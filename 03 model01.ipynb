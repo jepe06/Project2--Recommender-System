{
 "cells": [
  {
   "cell_type": "markdown",
   "metadata": {},
   "source": [
    "# MODELO BASE - SEM GENERO E SEM UTILIZADOR: DUPLA OPTIMIZAÇÃO\n",
    "\n",
    "# POR ACABAR !!!!!!!!!!"
   ]
  },
  {
   "cell_type": "code",
   "execution_count": 28,
   "metadata": {},
   "outputs": [],
   "source": [
    "import pandas as pd\n",
    "import numpy as np\n",
    "import json\n",
    "import matplotlib.pyplot as plt\n",
    "import warnings\n",
    "\n",
    "#warnings.filterwarnings(\"ignore\")\n",
    "\n",
    "plt.rcParams.update({\n",
    "    \"text.usetex\": True,              # If you want to use LaTeX fonts in text\n",
    "    \"font.family\": \"serif\",           # IEEE uses Times New Roman-like fonts\n",
    "    \"font.size\": 12,                   # General font size for IEEE format\n",
    "    \"axes.labelsize\": 12,              # Axis labels font size\n",
    "    \"legend.fontsize\": 11,             # Legend font size\n",
    "    \"xtick.labelsize\": 11,             # X-axis tick labels font size\n",
    "    \"ytick.labelsize\": 11,             # Y-axis tick labels font size\n",
    "    \"figure.figsize\": (5, 5*0.8),\n",
    "    \"savefig.dpi\": 900,               # DPI for high-quality PNG/JPEG\n",
    "})"
   ]
  },
  {
   "cell_type": "markdown",
   "metadata": {},
   "source": [
    "# Load the data"
   ]
  },
  {
   "cell_type": "code",
   "execution_count": 29,
   "metadata": {},
   "outputs": [],
   "source": [
    "df_train = pd.read_csv(\"data/data_train.csv\")\n",
    "df_test = pd.read_csv(\"data/data_test.csv\")"
   ]
  },
  {
   "cell_type": "code",
   "execution_count": 30,
   "metadata": {},
   "outputs": [
    {
     "data": {
      "text/plain": [
       "(9633, 385)"
      ]
     },
     "execution_count": 30,
     "metadata": {},
     "output_type": "execute_result"
    }
   ],
   "source": [
    "with open(\"data/data_ids.json\") as f:\n",
    "    ids = json.load(f)\n",
    "\n",
    "max_movieId = max(ids[\"moviesIDs\"].values())\n",
    "max_userId = max(ids[\"userIDs\"].values())\n",
    "\n",
    "# Create a matrix of users and movies\n",
    "base_matrix = np.zeros((max_movieId + 1, max_userId + 1))\n",
    "base_matrix.shape"
   ]
  },
  {
   "cell_type": "markdown",
   "metadata": {},
   "source": [
    "# Define functions"
   ]
  },
  {
   "cell_type": "code",
   "execution_count": 31,
   "metadata": {},
   "outputs": [],
   "source": [
    "# Utility matrix and Binary matrix\n",
    "from scipy.sparse import lil_matrix\n",
    "\n",
    "def utility_matrix_AND_binary_matrix(dfTrain, zerosMatrix = base_matrix, jsonIds = ids):\n",
    "    Y = lil_matrix(zerosMatrix.shape)  # Use sparse matrix format\n",
    "    R = lil_matrix(zerosMatrix.shape)\n",
    "    for i, row in dfTrain.iterrows():\n",
    "        original_movieId, original_userId = int(row[\"movieId\"]), int(row[\"userId\"])\n",
    "        movieId = jsonIds[\"moviesIDs\"][str(original_movieId)]\n",
    "        userId = jsonIds[\"userIDs\"][str(original_userId)]\n",
    "        Y[movieId, userId] = row[\"rating\"]\n",
    "        R[movieId, userId] = 1\n",
    "    return Y, R"
   ]
  },
  {
   "cell_type": "code",
   "execution_count": 32,
   "metadata": {},
   "outputs": [],
   "source": [
    "def cofiCostFunc(params, Y, R, num_users, num_movies, num_features, Lambda):\n",
    "    \"\"\"\n",
    "    Returns the cost and gradient for the collaborative filtering\n",
    "    Lambda - regularization parameter\n",
    "    \"\"\"\n",
    "        \n",
    "    # Unfold the params\n",
    "    X = params[:num_movies*num_features].reshape(num_movies,num_features)\n",
    "    Theta = params[num_movies*num_features:].reshape(num_users,num_features)\n",
    "    \n",
    "    predictions =  X @ Theta.T\n",
    "    err = (predictions - Y)\n",
    "    J = 1/2 * np.sum((err**2) * R)\n",
    "    \n",
    "    #compute regularized cost function\n",
    "    reg_X =  Lambda/2 * np.sum(Theta**2)\n",
    "    reg_Theta = Lambda/2 *np.sum(X**2)\n",
    "    reg_J = J + reg_X + reg_Theta\n",
    "    \n",
    "    # Compute gradient\n",
    "    X_grad = err*R @ Theta\n",
    "    Theta_grad = (err*R).T @ X\n",
    "    grad = np.append(X_grad.flatten(),Theta_grad.flatten())\n",
    "    \n",
    "    # Compute regularized gradient\n",
    "    reg_X_grad = X_grad + Lambda*X\n",
    "    reg_Theta_grad = Theta_grad + Lambda*Theta\n",
    "    reg_grad = np.append(reg_X_grad.flatten(),reg_Theta_grad.flatten())\n",
    "    \n",
    "    return J, grad, reg_J, reg_grad"
   ]
  },
  {
   "cell_type": "code",
   "execution_count": 33,
   "metadata": {},
   "outputs": [],
   "source": [
    "def gradientDescent(initial_parameters,Y,R,num_users,num_movies,num_features,alpha,num_iters,Lambda):\n",
    "    \"\"\"\n",
    "    alpha - learning rate\n",
    "    Optimize X and Theta\n",
    "    \"\"\"\n",
    "    # unfold the initial parameters (consult function cofiCostFunc)\n",
    "    X = initial_parameters[:num_movies*num_features].reshape(num_movies,num_features)\n",
    "    Theta = initial_parameters[num_movies*num_features:].reshape(num_users,num_features)\n",
    "    \n",
    "    J_history =[]\n",
    "    \n",
    "    for i in range(num_iters):\n",
    "        #Append into a single vector params X and Theta (see above)\n",
    "        params = np.append(X.flatten(),Theta.flatten())        \n",
    "        cost, grad = cofiCostFunc(params, Y, R, num_users, num_movies, num_features, Lambda)[2:]\n",
    "        \n",
    "        # unfold grad\n",
    "        X_grad = grad[:num_movies*num_features].reshape(num_movies,num_features)\n",
    "        Theta_grad = grad[num_movies*num_features:].reshape(num_users,num_features)\n",
    "        \n",
    "        #Update trainable parameters X & Theta applying gradient descent method\n",
    "        X = X - alpha*X_grad\n",
    "        \n",
    "        Theta = Theta - alpha*Theta_grad\n",
    "        \n",
    "        J_history.append(cost)\n",
    "    \n",
    "    #Append into a single vector paramsFinal the updated X and Theta\n",
    "    paramsFinal = np.append(X.flatten(),Theta.flatten())\n",
    "    return paramsFinal , J_history"
   ]
  },
  {
   "cell_type": "markdown",
   "metadata": {},
   "source": [
    "# Start modelling"
   ]
  },
  {
   "cell_type": "markdown",
   "metadata": {},
   "source": [
    "- split the df in 8 to do cv\n",
    "\n",
    "- define num of features to use: 20 because we have 20 diff genres of movies (02 data_vis.ipynb)"
   ]
  },
  {
   "cell_type": "code",
   "execution_count": 34,
   "metadata": {},
   "outputs": [
    {
     "name": "stderr",
     "output_type": "stream",
     "text": [
      "/opt/anaconda3/envs/FAA/lib/python3.10/site-packages/numpy/_core/fromnumeric.py:57: FutureWarning: 'DataFrame.swapaxes' is deprecated and will be removed in a future version. Please use 'DataFrame.transpose' instead.\n",
      "  return bound(*args, **kwds)\n"
     ]
    }
   ],
   "source": [
    "# Shuffle the DataFrame randomly and split it into 8 parts\n",
    "df_shuffled = df_train.sample(frac=1, random_state=42).reset_index(drop=True)\n",
    "folds = np.array_split(df_shuffled, 8)\n",
    "\n",
    "# define the number of movies, users and features\n",
    "num_movies, num_users = base_matrix.shape\n",
    "num_features = 20"
   ]
  },
  {
   "cell_type": "markdown",
   "metadata": {},
   "source": [
    "optimize the hyperparameters of the model using 8cv and minimizing RMSE"
   ]
  },
  {
   "cell_type": "code",
   "execution_count": null,
   "metadata": {},
   "outputs": [
    {
     "name": "stdout",
     "output_type": "stream",
     "text": [
      "Combination 1 of 70 with (0, 0.0001): CV1: 3.7, CV2: 3.7, CV3: 3.6, CV4: 3.6, CV5: 3.7, CV6: 3.7, CV7: 3.7, CV8: 3.7, \n",
      "Combination 2 of 70 with (0, 0.0004): CV1: 3.6, CV2: 3.6, CV3: 3.6, CV4: 3.6, CV5: 3.7, CV6: 3.7, CV7: 3.6, CV8: 3.7, \n",
      "Combination 3 of 70 with (0, 0.0005): CV1: 3.6, CV2: 3.6, CV3: 3.6, CV4: 3.6, CV5: 3.6, CV6: 3.7, CV7: 3.6, CV8: 3.6, \n",
      "Combination 4 of 70 with (0, 0.00065): CV1: 3.6, CV2: 3.6, CV3: 3.6, CV4: 3.5, CV5: 3.6, CV6: 3.6, CV7: 3.6, CV8: 3.6, \n",
      "Combination 5 of 70 with (0, 0.00075): CV1: 3.5, CV2: 3.5, CV3: 3.6, CV4: 3.5, CV5: 3.5, CV6: 3.6, CV7: 3.6, CV8: 3.6, \n",
      "Combination 6 of 70 with (0, 0.001): CV1: 3.2, CV2: 3.4, CV3: 3.4, CV4: 3.4, CV5: 3.3, CV6: 3.4, CV7: 3.3, CV8: 3.3, \n",
      "Combination 7 of 70 with (0, 0.0015): CV1: 2.5, CV2: 2.6, CV3: 2.5, CV4: 2.6, CV5: 2.6, CV6: 2.5, CV7: 2.6, CV8: 2.8, \n",
      "Combination 8 of 70 with (5, 0.0001): CV1: 3.7, CV2: 3.7, CV3: 3.6, CV4: 3.6, CV5: 3.7, CV6: 3.7, CV7: 3.7, CV8: 3.7, \n",
      "Combination 9 of 70 with (5, 0.0004): CV1: 3.6, CV2: 3.7, CV3: 3.6, CV4: 3.6, CV5: 3.7, CV6: 3.7, CV7: 3.6, CV8: 3.6, \n",
      "Combination 10 of 70 with (5, 0.0005): CV1: 3.6, CV2: 3.6, CV3: 3.6, CV4: 3.6, CV5: 3.6, CV6: 3.7, CV7: 3.6, CV8: 3.6, \n",
      "Combination 11 of 70 with (5, 0.00065): CV1: 3.6, CV2: 3.6, CV3: 3.6, CV4: 3.6, CV5: 3.6, CV6: 3.6, CV7: 3.5, CV8: 3.6, \n",
      "Combination 12 of 70 with (5, 0.00075): CV1: 3.6, CV2: 3.5, CV3: 3.5, CV4: 3.6, CV5: 3.6, CV6: 3.6, CV7: 3.6, CV8: 3.6, \n",
      "Combination 13 of 70 with (5, 0.001): CV1: 3.4, CV2: 3.3, CV3: 3.4, CV4: 3.3, CV5: 3.3, CV6: 3.5, CV7: 3.4, CV8: 3.4, \n",
      "Combination 14 of 70 with (5, 0.0015): CV1: 2.5, CV2: 2.5, CV3: 2.6, CV4: 2.6, CV5: 2.6, CV6: 2.5, CV7: 2.6, CV8: 2.7, \n",
      "Combination 15 of 70 with (6, 0.0001): CV1: 3.7, CV2: 3.7, CV3: 3.6, CV4: 3.6, CV5: 3.7, CV6: 3.7, CV7: 3.6, CV8: 3.7, \n",
      "Combination 16 of 70 with (6, 0.0004): CV1: 3.6, CV2: 3.6, CV3: 3.6, CV4: 3.6, CV5: 3.6, CV6: 3.7, "
     ]
    },
    {
     "ename": "KeyboardInterrupt",
     "evalue": "",
     "output_type": "error",
     "traceback": [
      "\u001b[0;31m---------------------------------------------------------------------------\u001b[0m",
      "\u001b[0;31mKeyboardInterrupt\u001b[0m                         Traceback (most recent call last)",
      "Cell \u001b[0;32mIn[39], line 26\u001b[0m\n\u001b[1;32m     23\u001b[0m params \u001b[38;5;241m=\u001b[39m np\u001b[38;5;241m.\u001b[39mappend(X\u001b[38;5;241m.\u001b[39mflatten(),Theta\u001b[38;5;241m.\u001b[39mflatten())\n\u001b[1;32m     25\u001b[0m \u001b[38;5;66;03m# Apply gradient descent\u001b[39;00m\n\u001b[0;32m---> 26\u001b[0m param, jhist \u001b[38;5;241m=\u001b[39m \u001b[43mgradientDescent\u001b[49m\u001b[43m(\u001b[49m\u001b[43mparams\u001b[49m\u001b[43m,\u001b[49m\u001b[43mY\u001b[49m\u001b[43m,\u001b[49m\u001b[43mR\u001b[49m\u001b[43m,\u001b[49m\u001b[43mnum_users\u001b[49m\u001b[43m,\u001b[49m\u001b[43mnum_movies\u001b[49m\u001b[43m,\u001b[49m\u001b[43mnum_features\u001b[49m\u001b[43m,\u001b[49m\u001b[43malpha\u001b[49m\u001b[43m,\u001b[49m\u001b[43mnum_iters\u001b[49m\u001b[43m,\u001b[49m\u001b[43mLambda\u001b[49m\u001b[43m)\u001b[49m\n\u001b[1;32m     28\u001b[0m \u001b[38;5;66;03m# Unfold the final parameters\u001b[39;00m\n\u001b[1;32m     29\u001b[0m X \u001b[38;5;241m=\u001b[39m param[:num_movies\u001b[38;5;241m*\u001b[39mnum_features]\u001b[38;5;241m.\u001b[39mreshape(num_movies,num_features)\n",
      "Cell \u001b[0;32mIn[33], line 15\u001b[0m, in \u001b[0;36mgradientDescent\u001b[0;34m(initial_parameters, Y, R, num_users, num_movies, num_features, alpha, num_iters, Lambda)\u001b[0m\n\u001b[1;32m     12\u001b[0m \u001b[38;5;28;01mfor\u001b[39;00m i \u001b[38;5;129;01min\u001b[39;00m \u001b[38;5;28mrange\u001b[39m(num_iters):\n\u001b[1;32m     13\u001b[0m     \u001b[38;5;66;03m#Append into a single vector params X and Theta (see above)\u001b[39;00m\n\u001b[1;32m     14\u001b[0m     params \u001b[38;5;241m=\u001b[39m np\u001b[38;5;241m.\u001b[39mappend(X\u001b[38;5;241m.\u001b[39mflatten(),Theta\u001b[38;5;241m.\u001b[39mflatten())        \n\u001b[0;32m---> 15\u001b[0m     cost, grad \u001b[38;5;241m=\u001b[39m \u001b[43mcofiCostFunc\u001b[49m\u001b[43m(\u001b[49m\u001b[43mparams\u001b[49m\u001b[43m,\u001b[49m\u001b[43m \u001b[49m\u001b[43mY\u001b[49m\u001b[43m,\u001b[49m\u001b[43m \u001b[49m\u001b[43mR\u001b[49m\u001b[43m,\u001b[49m\u001b[43m \u001b[49m\u001b[43mnum_users\u001b[49m\u001b[43m,\u001b[49m\u001b[43m \u001b[49m\u001b[43mnum_movies\u001b[49m\u001b[43m,\u001b[49m\u001b[43m \u001b[49m\u001b[43mnum_features\u001b[49m\u001b[43m,\u001b[49m\u001b[43m \u001b[49m\u001b[43mLambda\u001b[49m\u001b[43m)\u001b[49m[\u001b[38;5;241m2\u001b[39m:]\n\u001b[1;32m     17\u001b[0m     \u001b[38;5;66;03m# unfold grad\u001b[39;00m\n\u001b[1;32m     18\u001b[0m     X_grad \u001b[38;5;241m=\u001b[39m grad[:num_movies\u001b[38;5;241m*\u001b[39mnum_features]\u001b[38;5;241m.\u001b[39mreshape(num_movies,num_features)\n",
      "Cell \u001b[0;32mIn[32], line 13\u001b[0m, in \u001b[0;36mcofiCostFunc\u001b[0;34m(params, Y, R, num_users, num_movies, num_features, Lambda)\u001b[0m\n\u001b[1;32m     11\u001b[0m predictions \u001b[38;5;241m=\u001b[39m  X \u001b[38;5;241m@\u001b[39m Theta\u001b[38;5;241m.\u001b[39mT\n\u001b[1;32m     12\u001b[0m err \u001b[38;5;241m=\u001b[39m (predictions \u001b[38;5;241m-\u001b[39m Y)\n\u001b[0;32m---> 13\u001b[0m J \u001b[38;5;241m=\u001b[39m \u001b[38;5;241m1\u001b[39m\u001b[38;5;241m/\u001b[39m\u001b[38;5;241m2\u001b[39m \u001b[38;5;241m*\u001b[39m \u001b[43mnp\u001b[49m\u001b[38;5;241;43m.\u001b[39;49m\u001b[43msum\u001b[49m\u001b[43m(\u001b[49m\u001b[43m(\u001b[49m\u001b[43merr\u001b[49m\u001b[38;5;241;43m*\u001b[39;49m\u001b[38;5;241;43m*\u001b[39;49m\u001b[38;5;241;43m2\u001b[39;49m\u001b[43m)\u001b[49m\u001b[43m \u001b[49m\u001b[38;5;241;43m*\u001b[39;49m\u001b[43m \u001b[49m\u001b[43mR\u001b[49m\u001b[43m)\u001b[49m\n\u001b[1;32m     15\u001b[0m \u001b[38;5;66;03m#compute regularized cost function\u001b[39;00m\n\u001b[1;32m     16\u001b[0m reg_X \u001b[38;5;241m=\u001b[39m  Lambda\u001b[38;5;241m/\u001b[39m\u001b[38;5;241m2\u001b[39m \u001b[38;5;241m*\u001b[39m np\u001b[38;5;241m.\u001b[39msum(Theta\u001b[38;5;241m*\u001b[39m\u001b[38;5;241m*\u001b[39m\u001b[38;5;241m2\u001b[39m)\n",
      "File \u001b[0;32m/opt/anaconda3/envs/FAA/lib/python3.10/site-packages/numpy/_core/fromnumeric.py:2466\u001b[0m, in \u001b[0;36msum\u001b[0;34m(a, axis, dtype, out, keepdims, initial, where)\u001b[0m\n\u001b[1;32m   2463\u001b[0m         \u001b[38;5;28;01mreturn\u001b[39;00m out\n\u001b[1;32m   2464\u001b[0m     \u001b[38;5;28;01mreturn\u001b[39;00m res\n\u001b[0;32m-> 2466\u001b[0m \u001b[38;5;28;01mreturn\u001b[39;00m \u001b[43m_wrapreduction\u001b[49m\u001b[43m(\u001b[49m\n\u001b[1;32m   2467\u001b[0m \u001b[43m    \u001b[49m\u001b[43ma\u001b[49m\u001b[43m,\u001b[49m\u001b[43m \u001b[49m\u001b[43mnp\u001b[49m\u001b[38;5;241;43m.\u001b[39;49m\u001b[43madd\u001b[49m\u001b[43m,\u001b[49m\u001b[43m \u001b[49m\u001b[38;5;124;43m'\u001b[39;49m\u001b[38;5;124;43msum\u001b[39;49m\u001b[38;5;124;43m'\u001b[39;49m\u001b[43m,\u001b[49m\u001b[43m \u001b[49m\u001b[43maxis\u001b[49m\u001b[43m,\u001b[49m\u001b[43m \u001b[49m\u001b[43mdtype\u001b[49m\u001b[43m,\u001b[49m\u001b[43m \u001b[49m\u001b[43mout\u001b[49m\u001b[43m,\u001b[49m\n\u001b[1;32m   2468\u001b[0m \u001b[43m    \u001b[49m\u001b[43mkeepdims\u001b[49m\u001b[38;5;241;43m=\u001b[39;49m\u001b[43mkeepdims\u001b[49m\u001b[43m,\u001b[49m\u001b[43m \u001b[49m\u001b[43minitial\u001b[49m\u001b[38;5;241;43m=\u001b[39;49m\u001b[43minitial\u001b[49m\u001b[43m,\u001b[49m\u001b[43m \u001b[49m\u001b[43mwhere\u001b[49m\u001b[38;5;241;43m=\u001b[39;49m\u001b[43mwhere\u001b[49m\n\u001b[1;32m   2469\u001b[0m \u001b[43m\u001b[49m\u001b[43m)\u001b[49m\n",
      "File \u001b[0;32m/opt/anaconda3/envs/FAA/lib/python3.10/site-packages/numpy/_core/fromnumeric.py:86\u001b[0m, in \u001b[0;36m_wrapreduction\u001b[0;34m(obj, ufunc, method, axis, dtype, out, **kwargs)\u001b[0m\n\u001b[1;32m     83\u001b[0m         \u001b[38;5;28;01melse\u001b[39;00m:\n\u001b[1;32m     84\u001b[0m             \u001b[38;5;28;01mreturn\u001b[39;00m reduction(axis\u001b[38;5;241m=\u001b[39maxis, out\u001b[38;5;241m=\u001b[39mout, \u001b[38;5;241m*\u001b[39m\u001b[38;5;241m*\u001b[39mpasskwargs)\n\u001b[0;32m---> 86\u001b[0m \u001b[38;5;28;01mreturn\u001b[39;00m \u001b[43mufunc\u001b[49m\u001b[38;5;241;43m.\u001b[39;49m\u001b[43mreduce\u001b[49m\u001b[43m(\u001b[49m\u001b[43mobj\u001b[49m\u001b[43m,\u001b[49m\u001b[43m \u001b[49m\u001b[43maxis\u001b[49m\u001b[43m,\u001b[49m\u001b[43m \u001b[49m\u001b[43mdtype\u001b[49m\u001b[43m,\u001b[49m\u001b[43m \u001b[49m\u001b[43mout\u001b[49m\u001b[43m,\u001b[49m\u001b[43m \u001b[49m\u001b[38;5;241;43m*\u001b[39;49m\u001b[38;5;241;43m*\u001b[39;49m\u001b[43mpasskwargs\u001b[49m\u001b[43m)\u001b[49m\n",
      "\u001b[0;31mKeyboardInterrupt\u001b[0m: "
     ]
    }
   ],
   "source": [
    "Lambdas = [0, 5, 6, 7, 8, 10, 13, 15, 20, 25]\n",
    "alphas = [0.0001, 0.0004, 0.0005, 0.00065, 0.00075, 0.001, 0.0015]\n",
    "num_iters = 500\n",
    "\n",
    "combo = 1\n",
    "results = {}\n",
    "for Lambda in Lambdas:\n",
    "    for alpha in alphas:\n",
    "        print(f\"Combination {combo} of {len(Lambdas)*len(alphas)} with ({Lambda}, {alpha}):\", end=\" \") \n",
    "        combo += 1\n",
    "\n",
    "        avg_RMSE = 0\n",
    "        for exclude_index in range(8):\n",
    "            merged_df = pd.concat([part for i, part in enumerate(folds) if i != exclude_index])\n",
    "\n",
    "            # Create the utility matrix and the binary matrix\n",
    "            Y, R = utility_matrix_AND_binary_matrix(merged_df)\n",
    "            Y, R = Y.toarray(), R.toarray()\n",
    "\n",
    "            # Define the initial parameters\n",
    "            X = np.random.normal(loc=0, scale=0.3, size=(num_movies, num_features))\n",
    "            Theta = np.random.normal(loc=0, scale=0.3, size=(num_users, num_features))\n",
    "            params = np.append(X.flatten(),Theta.flatten())\n",
    "\n",
    "            # Apply gradient descent\n",
    "            param, jhist = gradientDescent(params,Y,R,num_users,num_movies,num_features,alpha,num_iters,Lambda)\n",
    "\n",
    "            # Unfold the final parameters\n",
    "            X = param[:num_movies*num_features].reshape(num_movies,num_features)\n",
    "            Theta = param[num_movies*num_features:].reshape(num_users,num_features)\n",
    "\n",
    "            # Predict all ratings of num_users for num_movies\n",
    "            p = X @ Theta.T\n",
    "\n",
    "            # Compute the RMSE\n",
    "            RMSE = 0\n",
    "            for i, row in folds[exclude_index].iterrows():\n",
    "                movieId_matrix = ids[\"moviesIDs\"][str(int(row[\"movieId\"]))]\n",
    "                userId_matrix = ids[\"userIDs\"][str(int(row[\"userId\"]))]\n",
    "                RMSE += abs(row[\"rating\"] - p[int(movieId_matrix), int(userId_matrix)])**2\n",
    "            RMSE = np.sqrt(RMSE/len(folds[exclude_index]))\n",
    "            print(f\"CV{exclude_index+1}: {RMSE:.1f}\", end=\", \")\n",
    "            avg_RMSE += RMSE/8\n",
    "        \n",
    "        results[(Lambda, alpha)] = avg_RMSE\n",
    "        print(\"\")"
   ]
  },
  {
   "cell_type": "code",
   "execution_count": null,
   "metadata": {},
   "outputs": [],
   "source": [
    "results_stored = \"...\"\n",
    "results"
   ]
  },
  {
   "cell_type": "code",
   "execution_count": 58,
   "metadata": {},
   "outputs": [
    {
     "data": {
      "image/png": "[encoded data removed]",
      "text/plain": [
       "<Figure size 800x600 with 2 Axes>"
      ]
     },
     "metadata": {},
     "output_type": "display_data"
    }
   ],
   "source": [
    "from scipy.interpolate import griddata\n",
    "\n",
    "# Extract x, y, and z values\n",
    "points = np.array(list(results.keys()))\n",
    "x, y = points[:, 0], points[:, 1]\n",
    "z = np.array(list(results.values()))\n",
    "\n",
    "# Create a grid for interpolation\n",
    "xi = np.linspace(min(x), max(x), 100)\n",
    "yi = np.linspace(min(y), max(y), 100)\n",
    "xi, yi = np.meshgrid(xi, yi)\n",
    "\n",
    "# Interpolate z values onto the grid\n",
    "zi = griddata(points, z, (xi, yi), method='linear') #nearest, cubic, linear, quadratic\n",
    "\n",
    "# Plot the topographic map\n",
    "plt.figure(figsize=(8, 6))\n",
    "contour = plt.contourf(xi, yi, zi, levels=50, cmap='viridis')\n",
    "plt.colorbar(contour, label='8-Fold Cross-Validation RMSE')\n",
    "#plt.scatter(x, y, color='black', s=1 , label='Data Points')\n",
    "best_lambda, best_alpha = 2, 0.00069\n",
    "plt.scatter(best_lambda, best_alpha, color='red', s=20)\n",
    "plt.text(best_lambda, best_alpha, f\"({best_lambda}, AAAAA {best_alpha})\", fontsize=12, color='red')\n",
    "plt.title('Fine-Tuning Collaborative Filtering Hyperparameters')\n",
    "plt.xlabel(r'Regularization Parameter ($\\lambda$)')\n",
    "plt.ylabel(r'Learning Rate ($\\alpha$)')\n",
    "#plt.legend()\n",
    "plt.show()"
   ]
  },
  {
   "cell_type": "code",
   "execution_count": 20,
   "metadata": {},
   "outputs": [],
   "source": [
    "# choose the best hyperparameters\n",
    "best_lambda, best_alpha = None, None"
   ]
  },
  {
   "cell_type": "markdown",
   "metadata": {},
   "source": [
    "# Evaluate the optimized model"
   ]
  },
  {
   "cell_type": "code",
   "execution_count": 21,
   "metadata": {},
   "outputs": [],
   "source": [
    "import matplotlib.pyplot as plt\n",
    "\n",
    "#plt.plot(jhist)"
   ]
  },
  {
   "cell_type": "code",
   "execution_count": 22,
   "metadata": {},
   "outputs": [
    {
     "data": {
      "text/plain": [
       "np.float64(1.9876816363697347)"
      ]
     },
     "execution_count": 22,
     "metadata": {},
     "output_type": "execute_result"
    }
   ],
   "source": [
    "df_to_evaluate = df_test\n",
    "\n",
    "RMSE = 0\n",
    "for i, row in df_to_evaluate.iterrows():\n",
    "    movieId_matrix = ids[\"moviesIDs\"][str(int(row[\"movieId\"]))]\n",
    "    userId_matrix = ids[\"userIDs\"][str(int(row[\"userId\"]))]\n",
    "    RMSE += abs(row[\"rating\"] - p[int(movieId_matrix), int(userId_matrix)])**2\n",
    "\n",
    "RMSE = np.sqrt(RMSE/len(df_to_evaluate))\n",
    "RMSE"
   ]
  },
  {
   "cell_type": "code",
   "execution_count": 23,
   "metadata": {},
   "outputs": [],
   "source": [
    "# ..."
   ]
  },
  {
   "cell_type": "code",
   "execution_count": null,
   "metadata": {},
   "outputs": [],
   "source": []
  }
 ],
 "metadata": {
  "kernelspec": {
   "display_name": "FAA",
   "language": "python",
   "name": "python3"
  },
  "language_info": {
   "codemirror_mode": {
    "name": "ipython",
    "version": 3
   },
   "file_extension": ".py",
   "mimetype": "text/x-python",
   "name": "python",
   "nbconvert_exporter": "python",
   "pygments_lexer": "ipython3",
   "version": "3.10.15"
  }
 },
 "nbformat": 4,
 "nbformat_minor": 2
}

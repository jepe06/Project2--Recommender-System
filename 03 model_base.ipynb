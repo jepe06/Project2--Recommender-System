{
 "cells": [
  {
   "cell_type": "code",
   "execution_count": 1,
   "metadata": {},
   "outputs": [],
   "source": [
    "import pandas as pd\n",
    "import numpy as np\n",
    "import json"
   ]
  },
  {
   "cell_type": "markdown",
   "metadata": {},
   "source": [
    "# Load the data"
   ]
  },
  {
   "cell_type": "code",
   "execution_count": 2,
   "metadata": {},
   "outputs": [],
   "source": [
    "df_train = pd.read_csv(\"data/data_train.csv\")\n",
    "df_test = pd.read_csv(\"data/data_test.csv\")"
   ]
  },
  {
   "cell_type": "code",
   "execution_count": 3,
   "metadata": {},
   "outputs": [
    {
     "data": {
      "text/plain": [
       "(131263, 138494)"
      ]
     },
     "execution_count": 3,
     "metadata": {},
     "output_type": "execute_result"
    }
   ],
   "source": [
    "with open(\"data/data_ids.json\") as f:\n",
    "    ids = json.load(f)\n",
    "\n",
    "max_movieId = 0\n",
    "max_userId = 0\n",
    "for values in ids[\"moviesIDs\"]:\n",
    "    max_movieId = max(max_movieId, int(values))\n",
    "for values in ids[\"userIDs\"]:\n",
    "    max_userId = max(max_userId, int(values))\n",
    "\n",
    "# Create a matrix of users and movies\n",
    "base_matrix = np.zeros((max_movieId + 1, max_userId + 1))\n",
    "base_matrix.shape"
   ]
  },
  {
   "cell_type": "code",
   "execution_count": 4,
   "metadata": {},
   "outputs": [],
   "source": [
    "# Utility matrix and Binary matrix\n",
    "from scipy.sparse import lil_matrix\n",
    "\n",
    "def utility_matrix_AND_binary_matrix(dfTrain, zerosMatrix = base_matrix, jsonIds = ids):\n",
    "    Y = lil_matrix(zerosMatrix.shape)  # Use sparse matrix format\n",
    "    R = lil_matrix(zerosMatrix.shape)\n",
    "    for i, row in dfTrain.iterrows():\n",
    "        original_movieId, original_userId = int(row[\"movieId\"]), int(row[\"userId\"])\n",
    "        movieId = jsonIds[\"moviesIDs\"][str(original_movieId)]\n",
    "        userId = jsonIds[\"userIDs\"][str(original_userId)]\n",
    "        Y[movieId, userId] = row[\"rating\"]\n",
    "        R[movieId, userId] = 1\n",
    "    \n",
    "    return Y, R\n",
    "\n",
    "Y, R = utility_matrix_AND_binary_matrix(df_train)"
   ]
  },
  {
   "cell_type": "code",
   "execution_count": 5,
   "metadata": {},
   "outputs": [],
   "source": [
    "# TESTE DE PASSAR DE SPARSE PARA DENSE\n",
    "\n",
    "#dense_arrayY = Y.toarray()\n",
    "#dense_arrayR = R.toarray()\n",
    "\n",
    "#dense_arrayR"
   ]
  },
  {
   "cell_type": "code",
   "execution_count": 6,
   "metadata": {},
   "outputs": [],
   "source": [
    "def cofiCostFunc(params, Y, R, num_users, num_movies, num_features, Lambda):\n",
    "    \"\"\"\n",
    "    Returns the cost and gradient for the collaborative filtering\n",
    "    Lambda - regularization parameter\n",
    "    \"\"\"\n",
    "        \n",
    "    # Unfold the params\n",
    "    X = params[:num_movies*num_features].reshape(num_movies,num_features)\n",
    "    Theta = params[num_movies*num_features:].reshape(num_users,num_features)\n",
    "    \n",
    "    predictions =  X @ Theta.T\n",
    "    err = (predictions - Y)\n",
    "    J = 1/2 * np.sum((err**2) * R)\n",
    "    \n",
    "    #compute regularized cost function\n",
    "    reg_X =  Lambda/2 * np.sum(Theta**2)\n",
    "    reg_Theta = Lambda/2 *np.sum(X**2)\n",
    "    reg_J = J + reg_X + reg_Theta\n",
    "    \n",
    "    # Compute gradient\n",
    "    X_grad = err*R @ Theta\n",
    "    Theta_grad = (err*R).T @ X\n",
    "    grad = np.append(X_grad.flatten(),Theta_grad.flatten())\n",
    "    \n",
    "    # Compute regularized gradient\n",
    "    reg_X_grad = X_grad + Lambda*X\n",
    "    reg_Theta_grad = Theta_grad + Lambda*Theta\n",
    "    reg_grad = np.append(reg_X_grad.flatten(),reg_Theta_grad.flatten())\n",
    "    \n",
    "    return J, grad, reg_J, reg_grad"
   ]
  },
  {
   "cell_type": "markdown",
   "metadata": {},
   "source": [
    "os nossos dados têm 20 generos diferentes, entao vamos usar 20 features (visto no 02 data_vis)"
   ]
  },
  {
   "cell_type": "code",
   "execution_count": 7,
   "metadata": {},
   "outputs": [
    {
     "name": "stdout",
     "output_type": "stream",
     "text": [
      "(131263, 20) (138494, 20)\n"
     ]
    },
    {
     "data": {
      "text/plain": [
       "0"
      ]
     },
     "execution_count": 7,
     "metadata": {},
     "output_type": "execute_result"
    },
    {
     "ename": "",
     "evalue": "",
     "output_type": "error",
     "traceback": [
      "\u001b[1;31mThe Kernel crashed while executing code in the current cell or a previous cell. \n",
      "\u001b[1;31mPlease review the code in the cell(s) to identify a possible cause of the failure. \n",
      "\u001b[1;31mClick <a href='https://aka.ms/vscodeJupyterKernelCrash'>here</a> for more info. \n",
      "\u001b[1;31mView Jupyter <a href='command:jupyter.viewOutput'>log</a> for further details."
     ]
    }
   ],
   "source": [
    "num_movies, num_users = base_matrix.shape\n",
    "num_features = 20\n",
    "\n",
    "X = np.random.normal(loc=0, scale=0.3, size=(num_movies, num_features))\n",
    "Theta = np.random.normal(loc=0, scale=0.3, size=(num_users, num_features))\n",
    "\n",
    "print(X.shape, Theta.shape)\n",
    "\n",
    "params = np.append(X.flatten(),Theta.flatten())\n",
    "\n",
    "#print(cofiCostFunc(params, dense_arrayY, dense_arrayR, num_users, num_movies, num_features, 0)[0])\n",
    "\n",
    "import gc\n",
    "from scipy.sparse import csr_matrix\n",
    "Y_sparse = csr_matrix(Y)\n",
    "R_sparse = csr_matrix(R)\n",
    "del X\n",
    "del Theta\n",
    "del Y\n",
    "del R\n",
    "gc.collect()"
   ]
  },
  {
   "cell_type": "code",
   "execution_count": null,
   "metadata": {},
   "outputs": [],
   "source": [
    "import numpy as np\n",
    "from scipy.sparse import lil_matrix, csr_matrix\n",
    "\n",
    "def cofiCostFuncSparse(params, Y_sparse, R_sparse, num_users, num_movies, num_features, Lambda):\n",
    "    \"\"\"\n",
    "    Returns the cost and gradient for the collaborative filtering, adapted for sparse matrices.\n",
    "    Y_sparse and R_sparse should be scipy sparse matrices.\n",
    "    Lambda - regularization parameter.\n",
    "    \"\"\"\n",
    "    \n",
    "    # Convert R to CSR for faster element-wise operations\n",
    "    R_sparse = R_sparse.tocsr()\n",
    "    \n",
    "    # Unfold the params\n",
    "    X = params[:num_movies * num_features].reshape(num_movies, num_features)\n",
    "    Theta = params[num_movies * num_features:].reshape(num_users, num_features)\n",
    "    \n",
    "    # Compute predictions and errors (keeping sparsity)\n",
    "    predictions = X @ Theta.T\n",
    "    err = R_sparse.multiply(predictions - Y_sparse)  # Element-wise multiply to keep only observed entries\n",
    "\n",
    "    # Compute the cost function\n",
    "    J = 1 / 2 * np.sum(err.data ** 2)  # Only sum over non-zero elements in the sparse matrix\n",
    "\n",
    "    # Add regularization to the cost\n",
    "    reg_X = Lambda / 2 * np.sum(Theta ** 2)\n",
    "    reg_Theta = Lambda / 2 * np.sum(X ** 2)\n",
    "    reg_J = J + reg_X + reg_Theta\n",
    "\n",
    "    # Compute gradients\n",
    "    X_grad = err @ Theta  # Sparse matrix-vector product\n",
    "    Theta_grad = err.T @ X  # Sparse matrix-vector product\n",
    "    \n",
    "    # Add regularization to the gradients\n",
    "    reg_X_grad = X_grad + Lambda * X\n",
    "    reg_Theta_grad = Theta_grad + Lambda * Theta\n",
    "    \n",
    "    # Flatten gradients into a single vector\n",
    "    reg_grad = np.append(reg_X_grad.flatten(), reg_Theta_grad.flatten())\n",
    "    \n",
    "    return J, reg_J, reg_grad\n",
    "\n",
    "\n",
    "cofiCostFuncSparse(params, Y_sparse, R_sparse, num_users, num_movies, num_features, 1.5)"
   ]
  }
 ],
 "metadata": {
  "kernelspec": {
   "display_name": "FAA",
   "language": "python",
   "name": "python3"
  },
  "language_info": {
   "codemirror_mode": {
    "name": "ipython",
    "version": 3
   },
   "file_extension": ".py",
   "mimetype": "text/x-python",
   "name": "python",
   "nbconvert_exporter": "python",
   "pygments_lexer": "ipython3",
   "version": "3.10.15"
  }
 },
 "nbformat": 4,
 "nbformat_minor": 2
}

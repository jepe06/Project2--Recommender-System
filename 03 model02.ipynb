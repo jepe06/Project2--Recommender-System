{
 "cells": [
  {
   "cell_type": "markdown",
   "metadata": {},
   "source": [
    "# MODELO 2 - SABENDO GENERO DO FILME\n",
    "\n",
    "# POR ACABAR !!!!!!!!!!"
   ]
  },
  {
   "cell_type": "code",
   "execution_count": 36,
   "metadata": {},
   "outputs": [],
   "source": [
    "import pandas as pd\n",
    "import numpy as np\n",
    "import json\n",
    "import matplotlib.pyplot as plt\n",
    "import warnings\n",
    "\n",
    "#warnings.filterwarnings(\"ignore\")\n",
    "\n",
    "plt.rcParams.update({\n",
    "    \"text.usetex\": True,              # If you want to use LaTeX fonts in text\n",
    "    \"font.family\": \"serif\",           # IEEE uses Times New Roman-like fonts\n",
    "    \"font.size\": 12,                   # General font size for IEEE format\n",
    "    \"axes.labelsize\": 12,              # Axis labels font size\n",
    "    \"legend.fontsize\": 11,             # Legend font size\n",
    "    \"xtick.labelsize\": 11,             # X-axis tick labels font size\n",
    "    \"ytick.labelsize\": 11,             # Y-axis tick labels font size\n",
    "    \"figure.figsize\": (5, 5*0.8),\n",
    "    \"savefig.dpi\": 300,               # DPI for high-quality PNG/JPEG\n",
    "})"
   ]
  },
  {
   "cell_type": "markdown",
   "metadata": {},
   "source": [
    "# Load the data"
   ]
  },
  {
   "cell_type": "code",
   "execution_count": 37,
   "metadata": {},
   "outputs": [],
   "source": [
    "df_train = pd.read_csv(\"data/data_train.csv\")\n",
    "df_test = pd.read_csv(\"data/data_test.csv\")"
   ]
  },
  {
   "cell_type": "code",
   "execution_count": 38,
   "metadata": {},
   "outputs": [
    {
     "data": {
      "text/plain": [
       "(9724, 610)"
      ]
     },
     "execution_count": 38,
     "metadata": {},
     "output_type": "execute_result"
    }
   ],
   "source": [
    "with open(\"data/data_ids.json\") as f:\n",
    "    ids = json.load(f)\n",
    "\n",
    "max_movieId = max(ids[\"moviesIDs\"].values())\n",
    "max_userId = max(ids[\"userIDs\"].values())\n",
    "\n",
    "# Create a matrix of users and movies\n",
    "base_matrix = np.zeros((max_movieId + 1, max_userId + 1))\n",
    "base_matrix.shape"
   ]
  },
  {
   "cell_type": "code",
   "execution_count": 39,
   "metadata": {},
   "outputs": [],
   "source": [
    "df_genre = pd.read_csv(\"data/movies.csv\")"
   ]
  },
  {
   "cell_type": "markdown",
   "metadata": {},
   "source": [
    "# Define functions"
   ]
  },
  {
   "cell_type": "code",
   "execution_count": 40,
   "metadata": {},
   "outputs": [],
   "source": [
    "# Utility matrix and Binary matrix\n",
    "from scipy.sparse import lil_matrix\n",
    "\n",
    "def utility_matrix_AND_binary_matrix(dfTrain, zerosMatrix = base_matrix, jsonIds = ids):\n",
    "    Y = lil_matrix(zerosMatrix.shape)  # Use sparse matrix format\n",
    "    R = lil_matrix(zerosMatrix.shape)\n",
    "    for i, row in dfTrain.iterrows():\n",
    "        original_movieId, original_userId = int(row[\"movieId\"]), int(row[\"userId\"])\n",
    "        movieId = jsonIds[\"moviesIDs\"][str(original_movieId)]\n",
    "        userId = jsonIds[\"userIDs\"][str(original_userId)]\n",
    "        Y[movieId, userId] = row[\"rating\"]\n",
    "        R[movieId, userId] = 1\n",
    "    return Y, R"
   ]
  },
  {
   "cell_type": "code",
   "execution_count": 41,
   "metadata": {},
   "outputs": [],
   "source": [
    "def cofiCostFunc_Xknown(params, X, Y, R, num_users, num_movies, num_features, Lambda):\n",
    "    \"\"\"\n",
    "    Returns the cost and gradient for the collaborative filtering\n",
    "    Lambda - regularization parameter\n",
    "    \"\"\"\n",
    "        \n",
    "    # Unfold the params\n",
    "    Theta = params\n",
    "    \n",
    "    predictions =  X @ Theta.T\n",
    "    err = (predictions - Y)\n",
    "    J = 1/2 * np.sum((err**2) * R)\n",
    "    \n",
    "    #compute regularized cost function\n",
    "    reg_Theta = Lambda/2 *np.sum(Theta**2)\n",
    "    reg_J = J + reg_Theta\n",
    "    \n",
    "    # Compute gradient\n",
    "    Theta_grad = (err*R).T @ X\n",
    "    grad = Theta_grad\n",
    "    \n",
    "    # Compute regularized gradient\n",
    "    reg_Theta_grad = Theta_grad + Lambda*Theta\n",
    "    reg_grad = reg_Theta_grad\n",
    "    \n",
    "    return J, grad, reg_J, reg_grad"
   ]
  },
  {
   "cell_type": "code",
   "execution_count": 42,
   "metadata": {},
   "outputs": [],
   "source": [
    "def gradientDescent_Xknown(initial_parameters,X,Y,R,num_users,num_movies,num_features,alpha,num_iters,Lambda):\n",
    "    \"\"\"\n",
    "    alpha - learning rate\n",
    "    Optimize X and Theta\n",
    "    \"\"\"\n",
    "    # unfold the initial parameters (consult function cofiCostFunc)\n",
    "    Theta = initial_parameters\n",
    "    \n",
    "    J_history =[]\n",
    "    \n",
    "    for i in range(num_iters):\n",
    "        #Append into a single vector params X and Theta (see above)\n",
    "        params = Theta\n",
    "        cost, Theta_grad = cofiCostFunc_Xknown(params, X, Y, R, num_users, num_movies, num_features, Lambda)[2:]\n",
    "        \n",
    "        #Update trainable parameters X & Theta applying gradient descent method        \n",
    "        Theta = Theta - alpha*Theta_grad\n",
    "        \n",
    "        J_history.append(cost)\n",
    "    \n",
    "    #Append into a single vector paramsFinal the updated X and Theta\n",
    "    paramsFinal = Theta\n",
    "    return paramsFinal , J_history"
   ]
  },
  {
   "cell_type": "markdown",
   "metadata": {},
   "source": [
    "# Set model features: X (movies genres as features)"
   ]
  },
  {
   "cell_type": "code",
   "execution_count": 43,
   "metadata": {},
   "outputs": [
    {
     "data": {
      "text/plain": [
       "(9724, 20)"
      ]
     },
     "execution_count": 43,
     "metadata": {},
     "output_type": "execute_result"
    }
   ],
   "source": [
    "num_movies, num_users = base_matrix.shape\n",
    "\n",
    "genres = df_genre[\"genres\"].str.split(\"|\").tolist()\n",
    "genres = {genre: 0 for sublist in genres for genre in sublist}\n",
    "# create X: movies features\n",
    "X = np.zeros((num_movies, len(genres))) # 20 genres\n",
    "for movie in ids[\"moviesIDs\"]:\n",
    "    movieId_matrix = ids[\"moviesIDs\"][movie]\n",
    "    genre_dict = genres.copy()\n",
    "    genres_list = df_genre[df_genre[\"movieId\"] == int(movie)][\"genres\"].str.split(\"|\").tolist()[0]\n",
    "    for genre in genres_list:\n",
    "        genre_dict[genre] = 1 / len(genres_list)\n",
    "    X[movieId_matrix] = list(genre_dict.values())\n",
    "\n",
    "X.shape"
   ]
  },
  {
   "cell_type": "markdown",
   "metadata": {},
   "source": [
    "# Start modelling"
   ]
  },
  {
   "cell_type": "code",
   "execution_count": 44,
   "metadata": {},
   "outputs": [
    {
     "name": "stderr",
     "output_type": "stream",
     "text": [
      "/opt/anaconda3/envs/FAA/lib/python3.10/site-packages/numpy/core/fromnumeric.py:59: FutureWarning: 'DataFrame.swapaxes' is deprecated and will be removed in a future version. Please use 'DataFrame.transpose' instead.\n",
      "  return bound(*args, **kwds)\n"
     ]
    }
   ],
   "source": [
    "# Shuffle the DataFrame randomly and split it into 8 parts\n",
    "df_shuffled = df_train.sample(frac=1, random_state=42).reset_index(drop=True)\n",
    "folds = np.array_split(df_shuffled, 8)\n",
    "\n",
    "# define the number of movies, users and features\n",
    "num_movies, num_users = base_matrix.shape\n",
    "num_features = 20"
   ]
  },
  {
   "cell_type": "code",
   "execution_count": 45,
   "metadata": {},
   "outputs": [],
   "source": [
    "results_stored = {(0, 0.005): 0.9840711598039373,\n",
    " (0, 0.0005): 1.2788811778538607,\n",
    " (0, 0.001): 1.1127864772566063,\n",
    " (0, 0.0075): 5.601493940739115e+105,\n",
    " (5, 0.005): 1.5331568622653198,\n",
    " (5, 0.0005): 1.5859375620130582,\n",
    " (5, 0.001): 1.5396687638664905,\n",
    " (5, 0.0075): 4.364430499943079e+110,\n",
    " (10, 0.005): 1.8280749714092337,\n",
    " (10, 0.0005): 1.8380954108504541,\n",
    " (0, 0.0055): 0.9821569988696647,\n",
    " (5, 0.0055): 1.533156849580742,\n",
    " (10, 0.001): 1.8283913279304576,\n",
    " (1, 0.005): 1.1074223075018303,\n",
    " (3, 0.005): 1.355656539850337,\n",
    " (2, 0.005): 1.2427074684501644,\n",
    " (15, 0.005): 2.0214945932880273,\n",
    " (20, 0.005): 2.164069908617318,\n",
    " (0.1, 0.005): 0.989987655349287,\n",
    " (0.5, 0.005): 1.0351197733959776,\n",
    " (0, 0.002): 1.026453785975172,\n",
    " (0.1, 0.0005): 1.2836611866909944,\n",
    " (0.1, 0.001): 1.1189147974518,\n",
    " (0.1, 0.0055): 0.9876443635034207,\n",
    " (0.1, 0.002): 1.0331659544104292,\n",
    " (0.2, 0.005): 0.9986996157952619,\n",
    " (0.2, 0.0005): 1.2900517525794473,\n",
    " (0.2, 0.001): 1.1269235771152766,\n",
    " (0.2, 0.0055): 0.9960532840094553,\n",
    " (0.2, 0.002): 1.041783329785714,\n",
    " (1, 0.0005): 1.337174235983246,\n",
    " (1, 0.001): 1.1949946765986441,\n",
    " (1, 0.0055): 1.1069031715136974,\n",
    " (1, 0.002): 1.1293868381677885,\n",
    " (0.5, 0.0005): 1.3069111025875428,\n",
    " (0.5, 0.001): 1.1508983488512108,\n",
    " (0.5, 0.0055): 1.0336107573164997,\n",
    " (0.5, 0.002): 1.0711857501235909,\n",
    " (2, 0.0005): 1.4004237022020671,\n",
    " (2, 0.001): 1.2882144775452624,\n",
    " (2, 0.0055): 1.2426694222528734,\n",
    " (2, 0.002): 1.2493780409219197,\n",
    " (0.05, 0.005): 0.9861742442921604,\n",
    " (0.05, 0.0005): 1.2814398284137614,\n",
    " (0.05, 0.001): 1.1156459064276887,\n",
    " (0.05, 0.0055): 0.984353096458239,\n",
    " (0.05, 0.002): 1.0292129526552873}"
   ]
  },
  {
   "cell_type": "code",
   "execution_count": 46,
   "metadata": {},
   "outputs": [
    {
     "name": "stdout",
     "output_type": "stream",
     "text": [
      "Combination 1 of 35 with (0, 0.005):\n",
      "Combination 2 of 35 with (0, 0.0005):\n",
      "Combination 3 of 35 with (0, 0.001):\n",
      "Combination 4 of 35 with (0, 0.0055):\n",
      "Combination 5 of 35 with (0, 0.002):\n",
      "Combination 6 of 35 with (0.1, 0.005):\n",
      "Combination 7 of 35 with (0.1, 0.0005):\n",
      "Combination 8 of 35 with (0.1, 0.001):\n",
      "Combination 9 of 35 with (0.1, 0.0055):\n",
      "Combination 10 of 35 with (0.1, 0.002):\n",
      "Combination 11 of 35 with (0.2, 0.005):\n",
      "Combination 12 of 35 with (0.2, 0.0005):\n",
      "Combination 13 of 35 with (0.2, 0.001):\n",
      "Combination 14 of 35 with (0.2, 0.0055):\n",
      "Combination 15 of 35 with (0.2, 0.002):\n",
      "Combination 16 of 35 with (1, 0.005):\n",
      "Combination 17 of 35 with (1, 0.0005):\n",
      "Combination 18 of 35 with (1, 0.001):\n",
      "Combination 19 of 35 with (1, 0.0055):\n",
      "Combination 20 of 35 with (1, 0.002):\n",
      "Combination 21 of 35 with (0.5, 0.005):\n",
      "Combination 22 of 35 with (0.5, 0.0005):\n",
      "Combination 23 of 35 with (0.5, 0.001):\n",
      "Combination 24 of 35 with (0.5, 0.0055):\n",
      "Combination 25 of 35 with (0.5, 0.002):\n",
      "Combination 26 of 35 with (2, 0.005):\n",
      "Combination 27 of 35 with (2, 0.0005):\n",
      "Combination 28 of 35 with (2, 0.001):\n",
      "Combination 29 of 35 with (2, 0.0055):\n",
      "Combination 30 of 35 with (2, 0.002):\n",
      "Combination 31 of 35 with (0.05, 0.005):\n",
      "Combination 32 of 35 with (0.05, 0.0005):\n",
      "Combination 33 of 35 with (0.05, 0.001):\n",
      "Combination 34 of 35 with (0.05, 0.0055):\n",
      "Combination 35 of 35 with (0.05, 0.002):\n"
     ]
    }
   ],
   "source": [
    "Lambdas = [0, 0.1,0.2,1, 0.5, 2,0.05]\n",
    "alphas = [0.005, 0.0005, 0.001, 0.0055, 0.002]\n",
    "num_iters = 500\n",
    "\n",
    "combo = 1\n",
    "results = {}\n",
    "for Lambda in Lambdas:\n",
    "    for alpha in alphas:\n",
    "        if (Lambda, alpha) in results_stored:\n",
    "            print(f\"Combination {combo} of {len(Lambdas)*len(alphas)} with ({Lambda}, {alpha}):\") \n",
    "            combo += 1\n",
    "            continue\n",
    "        \n",
    "        print(f\"Combination {combo} of {len(Lambdas)*len(alphas)} with ({Lambda}, {alpha}):\", end=\" \") \n",
    "        combo += 1\n",
    "\n",
    "        avg_RMSE = 0\n",
    "        for exclude_index in range(8):\n",
    "            merged_df = pd.concat([part for i, part in enumerate(folds) if i != exclude_index])\n",
    "\n",
    "            # Create the utility matrix and the binary matrix\n",
    "            Y, R = utility_matrix_AND_binary_matrix(merged_df)\n",
    "            Y, R = Y.toarray(), R.toarray()\n",
    "\n",
    "            # Define the initial parameters\n",
    "            X = X\n",
    "            Theta = np.random.normal(loc=0, scale=0.3, size=(num_users, num_features))\n",
    "            initial_parameters = Theta\n",
    "\n",
    "            # Apply gradient descent\n",
    "            param, jhist = gradientDescent_Xknown(initial_parameters,X,Y,R,num_users,num_movies,num_features,alpha,num_iters,Lambda)\n",
    "\n",
    "            # Unfold the final parameters\n",
    "            X = X\n",
    "            Theta = param\n",
    "\n",
    "            # Predict all ratings of num_users for num_movies\n",
    "            p = X @ Theta.T\n",
    "\n",
    "            # Compute the RMSE\n",
    "            RMSE = 0\n",
    "            for i, row in folds[exclude_index].iterrows():\n",
    "                movieId_matrix = ids[\"moviesIDs\"][str(int(row[\"movieId\"]))]\n",
    "                userId_matrix = ids[\"userIDs\"][str(int(row[\"userId\"]))]\n",
    "                RMSE += abs(row[\"rating\"] - p[int(movieId_matrix), int(userId_matrix)])**2\n",
    "            RMSE = np.sqrt(RMSE/len(folds[exclude_index]))\n",
    "            print(f\"CV{exclude_index+1}: {RMSE:.1f}\", end=\", \")\n",
    "            avg_RMSE += RMSE/8\n",
    "        \n",
    "        results[(Lambda, alpha)] = avg_RMSE\n",
    "        print(\"\")"
   ]
  },
  {
   "cell_type": "code",
   "execution_count": 47,
   "metadata": {},
   "outputs": [
    {
     "data": {
      "text/plain": [
       "{}"
      ]
     },
     "execution_count": 47,
     "metadata": {},
     "output_type": "execute_result"
    }
   ],
   "source": [
    "results"
   ]
  },
  {
   "cell_type": "code",
   "execution_count": 48,
   "metadata": {},
   "outputs": [
    {
     "data": {
      "image/png": "[encoded data removed]",
      "text/plain": [
       "<Figure size 800x600 with 2 Axes>"
      ]
     },
     "metadata": {},
     "output_type": "display_data"
    }
   ],
   "source": [
    "from scipy.interpolate import griddata\n",
    "\n",
    "results = {x:y for x,y in results_stored.items() if x[1] < 0.007 and x[0] <2}\n",
    "# Extract x, y, and z values\n",
    "points = np.array(list(results.keys()))\n",
    "x, y = points[:, 0], points[:, 1]\n",
    "z = np.array(list(results.values()))\n",
    "\n",
    "# Create a grid for interpolation\n",
    "xi = np.linspace(min(x), max(x), 100)\n",
    "yi = np.linspace(min(y), max(y), 100) #max()\n",
    "xi, yi = np.meshgrid(xi, yi)\n",
    "\n",
    "# Interpolate z values onto the grid\n",
    "zi = griddata(points, z, (xi, yi), method='cubic') #nearest, cubic, linear\n",
    "\n",
    "# Plot the topographic map\n",
    "plt.figure(figsize=(8, 6))\n",
    "contour = plt.contourf(xi, yi, zi, levels=50, cmap='viridis')\n",
    "plt.colorbar(contour, label='8-Fold Cross-Validation RMSE (500 iterations)')\n",
    "best_lambda, best_alpha = (0.05, 0.005)\n",
    "plt.scatter(best_lambda, best_alpha, color='red', s=20)\n",
    "plt.text(\n",
    "    best_lambda * 1.7, \n",
    "    best_alpha, \n",
    "    r\"$\\lambda$ = \" + f\"{best_lambda}\\n\" + r\"$\\alpha$ = \" + str(best_alpha), \n",
    "    fontsize=13.5, \n",
    "    color='black',\n",
    "    va = 'center',\n",
    "    bbox=dict(facecolor='white', edgecolor='black', boxstyle='round,pad=0.2', alpha=0.6)\n",
    ")\n",
    "plt.title('Fine-Tuning HSDUIAHSDIUHASDIUHASDI Hyperparameters')\n",
    "plt.xlabel(r'Regularization Parameter ($\\lambda$)')\n",
    "plt.ylabel(r'Learning Rate ($\\alpha$)')\n",
    "plt.tight_layout()\n",
    "#plt.savefig('images/model02_hyperparemeterstunning.png')\n",
    "plt.show()"
   ]
  },
  {
   "cell_type": "code",
   "execution_count": 49,
   "metadata": {},
   "outputs": [
    {
     "name": "stdout",
     "output_type": "stream",
     "text": [
      "The best hyperparameters are: (0.05, 0.005) with RMSE: 0.98617\n"
     ]
    }
   ],
   "source": [
    "# choose the best hyperparameters\n",
    "best_lambda, best_alpha = (0.05, 0.005)\n",
    "print(f\"The best hyperparameters are: ({best_lambda}, {best_alpha}) with RMSE: {results_stored[(best_lambda, best_alpha)]:.5f}\")"
   ]
  },
  {
   "cell_type": "markdown",
   "metadata": {},
   "source": [
    "# Evaluate the optimized model"
   ]
  },
  {
   "cell_type": "code",
   "execution_count": 50,
   "metadata": {},
   "outputs": [],
   "source": [
    "# Create the utility matrix and the binary matrix\n",
    "Y, R = utility_matrix_AND_binary_matrix(df_train)\n",
    "Y, R = Y.toarray(), R.toarray()\n",
    "\n",
    "# Define the initial parameters\n",
    "Theta = np.random.normal(loc=0, scale=0.3, size=(num_users, num_features))\n",
    "initial_parameters = Theta\n",
    "\n",
    "# Apply gradient descent\n",
    "param, jhist = gradientDescent_Xknown(initial_parameters,X,Y,R,num_users,num_movies,num_features,best_alpha,750,best_lambda)\n",
    "\n",
    "# Unfold the final parameters\n",
    "X = X\n",
    "Theta = param\n",
    "\n",
    "# Predict all ratings of num_users for num_movies\n",
    "p = X @ Theta.T"
   ]
  },
  {
   "cell_type": "code",
   "execution_count": 51,
   "metadata": {},
   "outputs": [
    {
     "data": {
      "image/png": "[encoded data removed]",
      "text/plain": [
       "<Figure size 500x400 with 1 Axes>"
      ]
     },
     "metadata": {},
     "output_type": "display_data"
    }
   ],
   "source": [
    "plt.plot(jhist)\n",
    "plt.title(\"Cost Function Over Iterations\")\n",
    "plt.xlabel(\"Number of Iterations\")\n",
    "plt.ylabel(r\"Cost Function ($J(\\theta)$)\")\n",
    "plt.tight_layout()\n",
    "plt.savefig(\"assets/model02_cost_function.png\")\n",
    "plt.show()"
   ]
  },
  {
   "cell_type": "code",
   "execution_count": 52,
   "metadata": {},
   "outputs": [
    {
     "name": "stdout",
     "output_type": "stream",
     "text": [
      "RMSE for train set: 0.84865\n",
      "RMSE for test set: 0.97232\n"
     ]
    }
   ],
   "source": [
    "df_to_evaluate = df_train\n",
    "RMSE = 0\n",
    "for i, row in df_to_evaluate.iterrows():\n",
    "    movieId_matrix = ids[\"moviesIDs\"][str(int(row[\"movieId\"]))]\n",
    "    userId_matrix = ids[\"userIDs\"][str(int(row[\"userId\"]))]\n",
    "    RMSE += abs(row[\"rating\"] - p[int(movieId_matrix), int(userId_matrix)])**2\n",
    "RMSE = np.sqrt(RMSE/len(df_to_evaluate))\n",
    "print(f\"RMSE for train set: {RMSE:.5f}\")\n",
    "\n",
    "df_to_evaluate = df_test\n",
    "RMSE = 0\n",
    "for i, row in df_to_evaluate.iterrows():\n",
    "    movieId_matrix = ids[\"moviesIDs\"][str(int(row[\"movieId\"]))]\n",
    "    userId_matrix = ids[\"userIDs\"][str(int(row[\"userId\"]))]\n",
    "    RMSE += abs(row[\"rating\"] - p[int(movieId_matrix), int(userId_matrix)])**2\n",
    "RMSE = np.sqrt(RMSE/len(df_to_evaluate))\n",
    "print(f\"RMSE for test set: {RMSE:.5f}\")"
   ]
  },
  {
   "cell_type": "code",
   "execution_count": 53,
   "metadata": {},
   "outputs": [
    {
     "name": "stdout",
     "output_type": "stream",
     "text": [
      "MAE for train set: 0.66006\n",
      "MAE for train set: 0.74606\n"
     ]
    }
   ],
   "source": [
    "df_to_evaluate = df_train\n",
    "MAE = 0\n",
    "for i, row in df_to_evaluate.iterrows():\n",
    "    movieId_matrix = ids[\"moviesIDs\"][str(int(row[\"movieId\"]))]\n",
    "    userId_matrix = ids[\"userIDs\"][str(int(row[\"userId\"]))]\n",
    "    MAE += abs(row[\"rating\"] - p[int(movieId_matrix), int(userId_matrix)])\n",
    "MAE = MAE/len(df_to_evaluate)\n",
    "print(f\"MAE for train set: {MAE:.5f}\")\n",
    "\n",
    "df_to_evaluate = df_test\n",
    "MAE = 0\n",
    "for i, row in df_to_evaluate.iterrows():\n",
    "    movieId_matrix = ids[\"moviesIDs\"][str(int(row[\"movieId\"]))]\n",
    "    userId_matrix = ids[\"userIDs\"][str(int(row[\"userId\"]))]\n",
    "    MAE += abs(row[\"rating\"] - p[int(movieId_matrix), int(userId_matrix)])\n",
    "MAE = MAE/len(df_to_evaluate)\n",
    "print(f\"MAE for train set: {MAE:.5f}\")"
   ]
  },
  {
   "cell_type": "code",
   "execution_count": 54,
   "metadata": {},
   "outputs": [
    {
     "name": "stderr",
     "output_type": "stream",
     "text": [
      "/opt/anaconda3/envs/FAA/lib/python3.10/site-packages/numpy/core/fromnumeric.py:59: FutureWarning: 'DataFrame.swapaxes' is deprecated and will be removed in a future version. Please use 'DataFrame.transpose' instead.\n",
      "  return bound(*args, **kwds)\n"
     ]
    },
    {
     "name": "stdout",
     "output_type": "stream",
     "text": [
      "Fold 1 with 0.1 in train_set_size: done\n"
     ]
    },
    {
     "ename": "KeyboardInterrupt",
     "evalue": "",
     "output_type": "error",
     "traceback": [
      "\u001b[0;31m---------------------------------------------------------------------------\u001b[0m",
      "\u001b[0;31mKeyboardInterrupt\u001b[0m                         Traceback (most recent call last)",
      "Cell \u001b[0;32mIn[54], line 28\u001b[0m\n\u001b[1;32m     23\u001b[0m Y, R \u001b[38;5;241m=\u001b[39m Y\u001b[38;5;241m.\u001b[39mtoarray(), R\u001b[38;5;241m.\u001b[39mtoarray()\n\u001b[1;32m     27\u001b[0m \u001b[38;5;66;03m# Apply gradient descent\u001b[39;00m\n\u001b[0;32m---> 28\u001b[0m param, jhist \u001b[38;5;241m=\u001b[39m \u001b[43mgradientDescent_Xknown\u001b[49m\u001b[43m(\u001b[49m\u001b[43mparams\u001b[49m\u001b[43m,\u001b[49m\u001b[43mX\u001b[49m\u001b[43m,\u001b[49m\u001b[43mY\u001b[49m\u001b[43m,\u001b[49m\u001b[43mR\u001b[49m\u001b[43m,\u001b[49m\u001b[43mnum_users\u001b[49m\u001b[43m,\u001b[49m\u001b[43mnum_movies\u001b[49m\u001b[43m,\u001b[49m\u001b[43mnum_features\u001b[49m\u001b[43m,\u001b[49m\u001b[43mbest_alpha\u001b[49m\u001b[43m,\u001b[49m\u001b[38;5;241;43m750\u001b[39;49m\u001b[43m,\u001b[49m\u001b[43mbest_lambda\u001b[49m\u001b[43m)\u001b[49m\n\u001b[1;32m     30\u001b[0m \u001b[38;5;66;03m# Unfold the final parameters\u001b[39;00m\n\u001b[1;32m     31\u001b[0m X \u001b[38;5;241m=\u001b[39m X\n",
      "Cell \u001b[0;32mIn[42], line 14\u001b[0m, in \u001b[0;36mgradientDescent_Xknown\u001b[0;34m(initial_parameters, X, Y, R, num_users, num_movies, num_features, alpha, num_iters, Lambda)\u001b[0m\n\u001b[1;32m     11\u001b[0m \u001b[38;5;28;01mfor\u001b[39;00m i \u001b[38;5;129;01min\u001b[39;00m \u001b[38;5;28mrange\u001b[39m(num_iters):\n\u001b[1;32m     12\u001b[0m     \u001b[38;5;66;03m#Append into a single vector params X and Theta (see above)\u001b[39;00m\n\u001b[1;32m     13\u001b[0m     params \u001b[38;5;241m=\u001b[39m Theta\n\u001b[0;32m---> 14\u001b[0m     cost, Theta_grad \u001b[38;5;241m=\u001b[39m \u001b[43mcofiCostFunc_Xknown\u001b[49m\u001b[43m(\u001b[49m\u001b[43mparams\u001b[49m\u001b[43m,\u001b[49m\u001b[43m \u001b[49m\u001b[43mX\u001b[49m\u001b[43m,\u001b[49m\u001b[43m \u001b[49m\u001b[43mY\u001b[49m\u001b[43m,\u001b[49m\u001b[43m \u001b[49m\u001b[43mR\u001b[49m\u001b[43m,\u001b[49m\u001b[43m \u001b[49m\u001b[43mnum_users\u001b[49m\u001b[43m,\u001b[49m\u001b[43m \u001b[49m\u001b[43mnum_movies\u001b[49m\u001b[43m,\u001b[49m\u001b[43m \u001b[49m\u001b[43mnum_features\u001b[49m\u001b[43m,\u001b[49m\u001b[43m \u001b[49m\u001b[43mLambda\u001b[49m\u001b[43m)\u001b[49m[\u001b[38;5;241m2\u001b[39m:]\n\u001b[1;32m     16\u001b[0m     \u001b[38;5;66;03m#Update trainable parameters X & Theta applying gradient descent method        \u001b[39;00m\n\u001b[1;32m     17\u001b[0m     Theta \u001b[38;5;241m=\u001b[39m Theta \u001b[38;5;241m-\u001b[39m alpha\u001b[38;5;241m*\u001b[39mTheta_grad\n",
      "\u001b[0;31mKeyboardInterrupt\u001b[0m: "
     ]
    }
   ],
   "source": [
    "# Create the utility matrix and the binary matrix\n",
    "Y, R = utility_matrix_AND_binary_matrix(df_train)\n",
    "Y, R = Y.toarray(), R.toarray()\n",
    "\n",
    "\n",
    "# Shuffle the DataFrame randomly and split it into 8 parts\n",
    "df_shuffled = df_train.sample(frac=1, random_state=42).reset_index(drop=True)\n",
    "folds = np.array_split(df_shuffled, 8)\n",
    "\n",
    "dict_RMSE = {}\n",
    "for fold in range(8):\n",
    "    merged_df = pd.concat([part for i, part in enumerate(folds) if i != fold])\n",
    "\n",
    "    # Define the initial parameters\n",
    "    X = X\n",
    "    Theta = np.random.normal(loc=0, scale=0.3, size=(num_users, num_features))\n",
    "    params = Theta\n",
    "    for train_set_size in [0.1, 0.2, 0.3, 0.4, 0.5, 0.6, 0.7, 0.8, 0.9, 1.0]:\n",
    "\n",
    "        merged_df_sized = merged_df.sample(frac=train_set_size, random_state=42)\n",
    "\n",
    "        Y, R = utility_matrix_AND_binary_matrix(merged_df_sized)\n",
    "        Y, R = Y.toarray(), R.toarray()\n",
    "\n",
    "        \n",
    "    \n",
    "        # Apply gradient descent\n",
    "        param, jhist = gradientDescent_Xknown(params,X,Y,R,num_users,num_movies,num_features,best_alpha,750,best_lambda)\n",
    "\n",
    "        # Unfold the final parameters\n",
    "        X = X\n",
    "        Theta = param\n",
    "\n",
    "        # Predict all ratings of num_users for num_movies\n",
    "        p = X @ Theta.T\n",
    "\n",
    "        df_to_evaluate = folds[fold]\n",
    "        RMSE = 0\n",
    "        for i, row in df_to_evaluate.iterrows():\n",
    "            movieId_matrix = ids[\"moviesIDs\"][str(int(row[\"movieId\"]))]\n",
    "            userId_matrix = ids[\"userIDs\"][str(int(row[\"userId\"]))]\n",
    "            RMSE += abs(row[\"rating\"] - p[int(movieId_matrix), int(userId_matrix)])**2\n",
    "        RMSE = np.sqrt(RMSE/len(df_to_evaluate))\n",
    "        dict_RMSE[(fold, train_set_size, \"test\")] = RMSE\n",
    "\n",
    "        df_to_evaluate = merged_df\n",
    "        RMSE = 0\n",
    "        for i, row in df_to_evaluate.iterrows():\n",
    "            movieId_matrix = ids[\"moviesIDs\"][str(int(row[\"movieId\"]))]\n",
    "            userId_matrix = ids[\"userIDs\"][str(int(row[\"userId\"]))]\n",
    "            RMSE += abs(row[\"rating\"] - p[int(movieId_matrix), int(userId_matrix)])**2\n",
    "        RMSE = np.sqrt(RMSE/len(df_to_evaluate))\n",
    "        dict_RMSE[(fold, train_set_size, \"train\")] = RMSE\n",
    "\n",
    "        print(f\"Fold {fold+1} with {train_set_size} in train_set_size: done\")"
   ]
  },
  {
   "cell_type": "code",
   "execution_count": 56,
   "metadata": {},
   "outputs": [],
   "source": [
    "# por acabar learning curve\n",
    "\n",
    "# por salvar modelo"
   ]
  }
 ],
 "metadata": {
  "kernelspec": {
   "display_name": "FAA",
   "language": "python",
   "name": "python3"
  },
  "language_info": {
   "codemirror_mode": {
    "name": "ipython",
    "version": 3
   },
   "file_extension": ".py",
   "mimetype": "text/x-python",
   "name": "python",
   "nbconvert_exporter": "python",
   "pygments_lexer": "ipython3",
   "version": "3.10.15"
  }
 },
 "nbformat": 4,
 "nbformat_minor": 2
}

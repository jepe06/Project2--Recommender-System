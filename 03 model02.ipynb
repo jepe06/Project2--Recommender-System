{
 "cells": [
  {
   "cell_type": "markdown",
   "metadata": {},
   "source": [
    "# MODELO 2 - SABENDO GENERO DO FILME\n",
    "\n",
    "# :)"
   ]
  },
  {
   "cell_type": "code",
   "execution_count": 1,
   "metadata": {},
   "outputs": [],
   "source": [
    "import pandas as pd\n",
    "import numpy as np\n",
    "import json\n",
    "import matplotlib.pyplot as plt\n",
    "import warnings\n",
    "\n",
    "#warnings.filterwarnings(\"ignore\")\n",
    "\n",
    "plt.rcParams.update({\n",
    "    \"text.usetex\": True,              # If you want to use LaTeX fonts in text\n",
    "    \"font.family\": \"serif\",           # IEEE uses Times New Roman-like fonts\n",
    "    \"font.size\": 12,                   # General font size for IEEE format\n",
    "    \"axes.labelsize\": 12,              # Axis labels font size\n",
    "    \"legend.fontsize\": 11,             # Legend font size\n",
    "    \"xtick.labelsize\": 11,             # X-axis tick labels font size\n",
    "    \"ytick.labelsize\": 11,             # Y-axis tick labels font size\n",
    "    \"figure.figsize\": (5, 5*0.8),\n",
    "    \"savefig.dpi\": 300,               # DPI for high-quality PNG/JPEG\n",
    "})"
   ]
  },
  {
   "cell_type": "markdown",
   "metadata": {},
   "source": [
    "# Load the data"
   ]
  },
  {
   "cell_type": "code",
   "execution_count": 2,
   "metadata": {},
   "outputs": [],
   "source": [
    "df_train = pd.read_csv(\"data/data_train.csv\")\n",
    "df_test = pd.read_csv(\"data/data_test.csv\")"
   ]
  },
  {
   "cell_type": "code",
   "execution_count": 3,
   "metadata": {},
   "outputs": [
    {
     "data": {
      "text/plain": [
       "(9724, 610)"
      ]
     },
     "execution_count": 3,
     "metadata": {},
     "output_type": "execute_result"
    }
   ],
   "source": [
    "with open(\"data/data_ids.json\") as f:\n",
    "    ids = json.load(f)\n",
    "\n",
    "max_movieId = max(ids[\"moviesIDs\"].values())\n",
    "max_userId = max(ids[\"userIDs\"].values())\n",
    "\n",
    "# Create a matrix of users and movies\n",
    "base_matrix = np.zeros((max_movieId + 1, max_userId + 1))\n",
    "base_matrix.shape"
   ]
  },
  {
   "cell_type": "code",
   "execution_count": 4,
   "metadata": {},
   "outputs": [],
   "source": [
    "df_genre = pd.read_csv(\"data/movies.csv\")"
   ]
  },
  {
   "cell_type": "markdown",
   "metadata": {},
   "source": [
    "# Define functions"
   ]
  },
  {
   "cell_type": "code",
   "execution_count": 5,
   "metadata": {},
   "outputs": [],
   "source": [
    "# Utility matrix and Binary matrix\n",
    "from scipy.sparse import lil_matrix\n",
    "\n",
    "def utility_matrix_AND_binary_matrix(dfTrain, zerosMatrix = base_matrix, jsonIds = ids):\n",
    "    Y = lil_matrix(zerosMatrix.shape)  # Use sparse matrix format\n",
    "    R = lil_matrix(zerosMatrix.shape)\n",
    "    for i, row in dfTrain.iterrows():\n",
    "        original_movieId, original_userId = int(row[\"movieId\"]), int(row[\"userId\"])\n",
    "        movieId = jsonIds[\"moviesIDs\"][str(original_movieId)]\n",
    "        userId = jsonIds[\"userIDs\"][str(original_userId)]\n",
    "        Y[movieId, userId] = row[\"rating\"]\n",
    "        R[movieId, userId] = 1\n",
    "    return Y, R"
   ]
  },
  {
   "cell_type": "code",
   "execution_count": 6,
   "metadata": {},
   "outputs": [],
   "source": [
    "def cofiCostFunc_Xknown(params, X, Y, R, num_users, num_movies, num_features, Lambda):\n",
    "    \"\"\"\n",
    "    Returns the cost and gradient for the collaborative filtering\n",
    "    Lambda - regularization parameter\n",
    "    \"\"\"\n",
    "        \n",
    "    # Unfold the params\n",
    "    Theta = params\n",
    "    \n",
    "    predictions =  X @ Theta.T\n",
    "    err = (predictions - Y)\n",
    "    J = 1/2 * np.sum((err**2) * R)\n",
    "    \n",
    "    #compute regularized cost function\n",
    "    reg_Theta = Lambda/2 *np.sum(Theta**2)\n",
    "    reg_J = J + reg_Theta\n",
    "    \n",
    "    # Compute gradient\n",
    "    Theta_grad = (err*R).T @ X\n",
    "    grad = Theta_grad\n",
    "    \n",
    "    # Compute regularized gradient\n",
    "    reg_Theta_grad = Theta_grad + Lambda*Theta\n",
    "    reg_grad = reg_Theta_grad\n",
    "    \n",
    "    return J, grad, reg_J, reg_grad"
   ]
  },
  {
   "cell_type": "code",
   "execution_count": 7,
   "metadata": {},
   "outputs": [],
   "source": [
    "def gradientDescent_Xknown(initial_parameters,X,Y,R,num_users,num_movies,num_features,alpha,num_iters,Lambda):\n",
    "    \"\"\"\n",
    "    alpha - learning rate\n",
    "    Optimize X and Theta\n",
    "    \"\"\"\n",
    "    # unfold the initial parameters (consult function cofiCostFunc)\n",
    "    Theta = initial_parameters\n",
    "    \n",
    "    J_history =[]\n",
    "    \n",
    "    for i in range(num_iters):\n",
    "        #Append into a single vector params X and Theta (see above)\n",
    "        params = Theta\n",
    "        cost, Theta_grad = cofiCostFunc_Xknown(params, X, Y, R, num_users, num_movies, num_features, Lambda)[2:]\n",
    "        \n",
    "        #Update trainable parameters X & Theta applying gradient descent method        \n",
    "        Theta = Theta - alpha*Theta_grad\n",
    "        \n",
    "        J_history.append(cost)\n",
    "    \n",
    "    #Append into a single vector paramsFinal the updated X and Theta\n",
    "    paramsFinal = Theta\n",
    "    return paramsFinal , J_history"
   ]
  },
  {
   "cell_type": "markdown",
   "metadata": {},
   "source": [
    "# Set model features: X (movies genres as features)"
   ]
  },
  {
   "cell_type": "code",
   "execution_count": 8,
   "metadata": {},
   "outputs": [
    {
     "data": {
      "text/plain": [
       "(9724, 20)"
      ]
     },
     "execution_count": 8,
     "metadata": {},
     "output_type": "execute_result"
    }
   ],
   "source": [
    "num_movies, num_users = base_matrix.shape\n",
    "\n",
    "genres = df_genre[\"genres\"].str.split(\"|\").tolist()\n",
    "genres = {genre: 0 for sublist in genres for genre in sublist}\n",
    "# create X: movies features\n",
    "X = np.zeros((num_movies, len(genres))) # 20 genres\n",
    "for movie in ids[\"moviesIDs\"]:\n",
    "    movieId_matrix = ids[\"moviesIDs\"][movie]\n",
    "    genre_dict = genres.copy()\n",
    "    genres_list = df_genre[df_genre[\"movieId\"] == int(movie)][\"genres\"].str.split(\"|\").tolist()[0]\n",
    "    for genre in genres_list:\n",
    "        genre_dict[genre] = 1 / len(genres_list)\n",
    "    X[movieId_matrix] = list(genre_dict.values())\n",
    "\n",
    "X.shape"
   ]
  },
  {
   "cell_type": "markdown",
   "metadata": {},
   "source": [
    "# Start modelling"
   ]
  },
  {
   "cell_type": "code",
   "execution_count": 9,
   "metadata": {},
   "outputs": [
    {
     "name": "stderr",
     "output_type": "stream",
     "text": [
      "/opt/anaconda3/envs/FAA/lib/python3.10/site-packages/numpy/core/fromnumeric.py:59: FutureWarning: 'DataFrame.swapaxes' is deprecated and will be removed in a future version. Please use 'DataFrame.transpose' instead.\n",
      "  return bound(*args, **kwds)\n"
     ]
    }
   ],
   "source": [
    "# Shuffle the DataFrame randomly and split it into 8 parts\n",
    "df_shuffled = df_train.sample(frac=1, random_state=42).reset_index(drop=True)\n",
    "folds = np.array_split(df_shuffled, 8)\n",
    "\n",
    "# define the number of movies, users and features\n",
    "num_movies, num_users = base_matrix.shape\n",
    "num_features = 20"
   ]
  },
  {
   "cell_type": "code",
   "execution_count": 10,
   "metadata": {},
   "outputs": [],
   "source": [
    "results_stored = {(0, 0.005): 0.9840711598039373,\n",
    " (0, 0.0005): 1.2788811778538607,\n",
    " (0, 0.001): 1.1127864772566063,\n",
    " (0, 0.0075): 5.601493940739115e+105,\n",
    " (5, 0.005): 1.5331568622653198,\n",
    " (5, 0.0005): 1.5859375620130582,\n",
    " (5, 0.001): 1.5396687638664905,\n",
    " (5, 0.0075): 4.364430499943079e+110,\n",
    " (10, 0.005): 1.8280749714092337,\n",
    " (10, 0.0005): 1.8380954108504541,\n",
    " (0, 0.0055): 0.9821569988696647,\n",
    " (5, 0.0055): 1.533156849580742,\n",
    " (10, 0.001): 1.8283913279304576,\n",
    " (1, 0.005): 1.1074223075018303,\n",
    " (3, 0.005): 1.355656539850337,\n",
    " (2, 0.005): 1.2427074684501644,\n",
    " (15, 0.005): 2.0214945932880273,\n",
    " (20, 0.005): 2.164069908617318,\n",
    " (0.1, 0.005): 0.989987655349287,\n",
    " (0.5, 0.005): 1.0351197733959776,\n",
    " (0, 0.002): 1.026453785975172,\n",
    " (0.1, 0.0005): 1.2836611866909944,\n",
    " (0.1, 0.001): 1.1189147974518,\n",
    " (0.1, 0.0055): 0.9876443635034207,\n",
    " (0.1, 0.002): 1.0331659544104292,\n",
    " (0.2, 0.005): 0.9986996157952619,\n",
    " (0.2, 0.0005): 1.2900517525794473,\n",
    " (0.2, 0.001): 1.1269235771152766,\n",
    " (0.2, 0.0055): 0.9960532840094553,\n",
    " (0.2, 0.002): 1.041783329785714,\n",
    " (1, 0.0005): 1.337174235983246,\n",
    " (1, 0.001): 1.1949946765986441,\n",
    " (1, 0.0055): 1.1069031715136974,\n",
    " (1, 0.002): 1.1293868381677885,\n",
    " (0.5, 0.0005): 1.3069111025875428,\n",
    " (0.5, 0.001): 1.1508983488512108,\n",
    " (0.5, 0.0055): 1.0336107573164997,\n",
    " (0.5, 0.002): 1.0711857501235909,\n",
    " (2, 0.0005): 1.4004237022020671,\n",
    " (2, 0.001): 1.2882144775452624,\n",
    " (2, 0.0055): 1.2426694222528734,\n",
    " (2, 0.002): 1.2493780409219197,\n",
    " (0.05, 0.005): 0.9861742442921604,\n",
    " (0.05, 0.0005): 1.2814398284137614,\n",
    " (0.05, 0.001): 1.1156459064276887,\n",
    " (0.05, 0.0055): 0.984353096458239,\n",
    " (0.05, 0.002): 1.0292129526552873}"
   ]
  },
  {
   "cell_type": "code",
   "execution_count": 11,
   "metadata": {},
   "outputs": [
    {
     "name": "stdout",
     "output_type": "stream",
     "text": [
      "Combination 1 of 35 with (0, 0.005):\n",
      "Combination 2 of 35 with (0, 0.0005):\n",
      "Combination 3 of 35 with (0, 0.001):\n",
      "Combination 4 of 35 with (0, 0.0055):\n",
      "Combination 5 of 35 with (0, 0.002):\n",
      "Combination 6 of 35 with (0.1, 0.005):\n",
      "Combination 7 of 35 with (0.1, 0.0005):\n",
      "Combination 8 of 35 with (0.1, 0.001):\n",
      "Combination 9 of 35 with (0.1, 0.0055):\n",
      "Combination 10 of 35 with (0.1, 0.002):\n",
      "Combination 11 of 35 with (0.2, 0.005):\n",
      "Combination 12 of 35 with (0.2, 0.0005):\n",
      "Combination 13 of 35 with (0.2, 0.001):\n",
      "Combination 14 of 35 with (0.2, 0.0055):\n",
      "Combination 15 of 35 with (0.2, 0.002):\n",
      "Combination 16 of 35 with (1, 0.005):\n",
      "Combination 17 of 35 with (1, 0.0005):\n",
      "Combination 18 of 35 with (1, 0.001):\n",
      "Combination 19 of 35 with (1, 0.0055):\n",
      "Combination 20 of 35 with (1, 0.002):\n",
      "Combination 21 of 35 with (0.5, 0.005):\n",
      "Combination 22 of 35 with (0.5, 0.0005):\n",
      "Combination 23 of 35 with (0.5, 0.001):\n",
      "Combination 24 of 35 with (0.5, 0.0055):\n",
      "Combination 25 of 35 with (0.5, 0.002):\n",
      "Combination 26 of 35 with (2, 0.005):\n",
      "Combination 27 of 35 with (2, 0.0005):\n",
      "Combination 28 of 35 with (2, 0.001):\n",
      "Combination 29 of 35 with (2, 0.0055):\n",
      "Combination 30 of 35 with (2, 0.002):\n",
      "Combination 31 of 35 with (0.05, 0.005):\n",
      "Combination 32 of 35 with (0.05, 0.0005):\n",
      "Combination 33 of 35 with (0.05, 0.001):\n",
      "Combination 34 of 35 with (0.05, 0.0055):\n",
      "Combination 35 of 35 with (0.05, 0.002):\n"
     ]
    }
   ],
   "source": [
    "Lambdas = [0, 0.1,0.2,1, 0.5, 2,0.05]\n",
    "alphas = [0.005, 0.0005, 0.001, 0.0055, 0.002]\n",
    "num_iters = 500\n",
    "\n",
    "combo = 1\n",
    "results = {}\n",
    "for Lambda in Lambdas:\n",
    "    for alpha in alphas:\n",
    "        if (Lambda, alpha) in results_stored:\n",
    "            print(f\"Combination {combo} of {len(Lambdas)*len(alphas)} with ({Lambda}, {alpha}):\") \n",
    "            combo += 1\n",
    "            continue\n",
    "        \n",
    "        print(f\"Combination {combo} of {len(Lambdas)*len(alphas)} with ({Lambda}, {alpha}):\", end=\" \") \n",
    "        combo += 1\n",
    "\n",
    "        avg_RMSE = 0\n",
    "        for exclude_index in range(8):\n",
    "            merged_df = pd.concat([part for i, part in enumerate(folds) if i != exclude_index])\n",
    "\n",
    "            # Create the utility matrix and the binary matrix\n",
    "            Y, R = utility_matrix_AND_binary_matrix(merged_df)\n",
    "            Y, R = Y.toarray(), R.toarray()\n",
    "\n",
    "            # Define the initial parameters\n",
    "            X = X\n",
    "            Theta = np.random.normal(loc=0, scale=0.3, size=(num_users, num_features))\n",
    "            initial_parameters = Theta\n",
    "\n",
    "            # Apply gradient descent\n",
    "            param, jhist = gradientDescent_Xknown(initial_parameters,X,Y,R,num_users,num_movies,num_features,alpha,num_iters,Lambda)\n",
    "\n",
    "            # Unfold the final parameters\n",
    "            X = X\n",
    "            Theta = param\n",
    "\n",
    "            # Predict all ratings of num_users for num_movies\n",
    "            p = X @ Theta.T\n",
    "\n",
    "            # Compute the RMSE\n",
    "            RMSE = 0\n",
    "            for i, row in folds[exclude_index].iterrows():\n",
    "                movieId_matrix = ids[\"moviesIDs\"][str(int(row[\"movieId\"]))]\n",
    "                userId_matrix = ids[\"userIDs\"][str(int(row[\"userId\"]))]\n",
    "                RMSE += abs(row[\"rating\"] - p[int(movieId_matrix), int(userId_matrix)])**2\n",
    "            RMSE = np.sqrt(RMSE/len(folds[exclude_index]))\n",
    "            print(f\"CV{exclude_index+1}: {RMSE:.1f}\", end=\", \")\n",
    "            avg_RMSE += RMSE/8\n",
    "        \n",
    "        results[(Lambda, alpha)] = avg_RMSE\n",
    "        print(\"\")"
   ]
  },
  {
   "cell_type": "code",
   "execution_count": 12,
   "metadata": {},
   "outputs": [
    {
     "data": {
      "text/plain": [
       "{}"
      ]
     },
     "execution_count": 12,
     "metadata": {},
     "output_type": "execute_result"
    }
   ],
   "source": [
    "results"
   ]
  },
  {
   "cell_type": "code",
   "execution_count": 13,
   "metadata": {},
   "outputs": [
    {
     "data": {
      "image/png": "[encoded data removed]",
      "text/plain": [
       "<Figure size 800x600 with 2 Axes>"
      ]
     },
     "metadata": {},
     "output_type": "display_data"
    }
   ],
   "source": [
    "from scipy.interpolate import griddata\n",
    "\n",
    "results = {x:y for x,y in results_stored.items() if x[1] < 0.007 and x[0] <2}\n",
    "# Extract x, y, and z values\n",
    "points = np.array(list(results.keys()))\n",
    "x, y = points[:, 0], points[:, 1]\n",
    "z = np.array(list(results.values()))\n",
    "\n",
    "# Create a grid for interpolation\n",
    "xi = np.linspace(min(x), max(x), 100)\n",
    "yi = np.linspace(min(y), max(y), 100) #max()\n",
    "xi, yi = np.meshgrid(xi, yi)\n",
    "\n",
    "# Interpolate z values onto the grid\n",
    "zi = griddata(points, z, (xi, yi), method='cubic') #nearest, cubic, linear\n",
    "\n",
    "# Plot the topographic map\n",
    "plt.figure(figsize=(8, 6))\n",
    "contour = plt.contourf(xi, yi, zi, levels=50, cmap='viridis')\n",
    "plt.colorbar(contour, label='8-Fold Cross-Validation RMSE (500 iterations)')\n",
    "best_lambda, best_alpha = (0.05, 0.005)\n",
    "plt.scatter(best_lambda, best_alpha, color='red', s=20)\n",
    "plt.text(\n",
    "    best_lambda * 1.7, \n",
    "    best_alpha, \n",
    "    r\"$\\lambda$ = \" + f\"{best_lambda}\\n\" + r\"$\\alpha$ = \" + str(best_alpha), \n",
    "    fontsize=13.5, \n",
    "    color='black',\n",
    "    va = 'center',\n",
    "    bbox=dict(facecolor='white', edgecolor='black', boxstyle='round,pad=0.2', alpha=0.6)\n",
    ")\n",
    "plt.title('Fine-Tuning HSDUIAHSDIUHASDIUHASDI Hyperparameters')\n",
    "plt.xlabel(r'Regularization Parameter ($\\lambda$)')\n",
    "plt.ylabel(r'Learning Rate ($\\alpha$)')\n",
    "plt.tight_layout()\n",
    "#plt.savefig('assets/model02_hyperparemeterstunning.png')\n",
    "plt.show()"
   ]
  },
  {
   "cell_type": "code",
   "execution_count": 14,
   "metadata": {},
   "outputs": [
    {
     "name": "stdout",
     "output_type": "stream",
     "text": [
      "The best hyperparameters are: (0.05, 0.005) with RMSE: 0.98617\n"
     ]
    }
   ],
   "source": [
    "# choose the best hyperparameters\n",
    "best_lambda, best_alpha = (0.05, 0.005)\n",
    "print(f\"The best hyperparameters are: ({best_lambda}, {best_alpha}) with RMSE: {results_stored[(best_lambda, best_alpha)]:.5f}\")"
   ]
  },
  {
   "cell_type": "markdown",
   "metadata": {},
   "source": [
    "# Evaluate the optimized model"
   ]
  },
  {
   "cell_type": "code",
   "execution_count": 15,
   "metadata": {},
   "outputs": [],
   "source": [
    "# Create the utility matrix and the binary matrix\n",
    "Y, R = utility_matrix_AND_binary_matrix(df_train)\n",
    "Y, R = Y.toarray(), R.toarray()\n",
    "\n",
    "# Define the initial parameters\n",
    "Theta = np.random.normal(loc=0, scale=0.3, size=(num_users, num_features))\n",
    "initial_parameters = Theta\n",
    "\n",
    "# Apply gradient descent\n",
    "param, jhist = gradientDescent_Xknown(initial_parameters,X,Y,R,num_users,num_movies,num_features,best_alpha,750,best_lambda)\n",
    "\n",
    "# Unfold the final parameters\n",
    "X = X\n",
    "Theta = param\n",
    "\n",
    "# Predict all ratings of num_users for num_movies\n",
    "p = X @ Theta.T"
   ]
  },
  {
   "cell_type": "code",
   "execution_count": 16,
   "metadata": {},
   "outputs": [
    {
     "data": {
      "image/png": "[encoded data removed]",
      "text/plain": [
       "<Figure size 500x400 with 1 Axes>"
      ]
     },
     "metadata": {},
     "output_type": "display_data"
    }
   ],
   "source": [
    "plt.plot(jhist)\n",
    "plt.title(\"Cost Function Over Iterations\")\n",
    "plt.xlabel(\"Number of Iterations\")\n",
    "plt.ylabel(r\"Cost Function ($J(\\theta)$)\")\n",
    "plt.tight_layout()\n",
    "#plt.savefig(\"assets/model02_cost_function.png\")\n",
    "plt.show()"
   ]
  },
  {
   "cell_type": "code",
   "execution_count": 17,
   "metadata": {},
   "outputs": [
    {
     "name": "stdout",
     "output_type": "stream",
     "text": [
      "RMSE for train set: 0.84859\n",
      "RMSE for test set: 0.97254\n"
     ]
    }
   ],
   "source": [
    "df_to_evaluate = df_train\n",
    "RMSE = 0\n",
    "for i, row in df_to_evaluate.iterrows():\n",
    "    movieId_matrix = ids[\"moviesIDs\"][str(int(row[\"movieId\"]))]\n",
    "    userId_matrix = ids[\"userIDs\"][str(int(row[\"userId\"]))]\n",
    "    RMSE += abs(row[\"rating\"] - p[int(movieId_matrix), int(userId_matrix)])**2\n",
    "RMSE = np.sqrt(RMSE/len(df_to_evaluate))\n",
    "print(f\"RMSE for train set: {RMSE:.5f}\")\n",
    "\n",
    "df_to_evaluate = df_test\n",
    "RMSE = 0\n",
    "for i, row in df_to_evaluate.iterrows():\n",
    "    movieId_matrix = ids[\"moviesIDs\"][str(int(row[\"movieId\"]))]\n",
    "    userId_matrix = ids[\"userIDs\"][str(int(row[\"userId\"]))]\n",
    "    RMSE += abs(row[\"rating\"] - p[int(movieId_matrix), int(userId_matrix)])**2\n",
    "RMSE = np.sqrt(RMSE/len(df_to_evaluate))\n",
    "print(f\"RMSE for test set: {RMSE:.5f}\")"
   ]
  },
  {
   "cell_type": "code",
   "execution_count": 18,
   "metadata": {},
   "outputs": [
    {
     "name": "stdout",
     "output_type": "stream",
     "text": [
      "MAE for train set: 0.65997\n",
      "MAE for train set: 0.74605\n"
     ]
    }
   ],
   "source": [
    "df_to_evaluate = df_train\n",
    "MAE = 0\n",
    "for i, row in df_to_evaluate.iterrows():\n",
    "    movieId_matrix = ids[\"moviesIDs\"][str(int(row[\"movieId\"]))]\n",
    "    userId_matrix = ids[\"userIDs\"][str(int(row[\"userId\"]))]\n",
    "    MAE += abs(row[\"rating\"] - p[int(movieId_matrix), int(userId_matrix)])\n",
    "MAE = MAE/len(df_to_evaluate)\n",
    "print(f\"MAE for train set: {MAE:.5f}\")\n",
    "\n",
    "df_to_evaluate = df_test\n",
    "MAE = 0\n",
    "for i, row in df_to_evaluate.iterrows():\n",
    "    movieId_matrix = ids[\"moviesIDs\"][str(int(row[\"movieId\"]))]\n",
    "    userId_matrix = ids[\"userIDs\"][str(int(row[\"userId\"]))]\n",
    "    MAE += abs(row[\"rating\"] - p[int(movieId_matrix), int(userId_matrix)])\n",
    "MAE = MAE/len(df_to_evaluate)\n",
    "print(f\"MAE for train set: {MAE:.5f}\")"
   ]
  },
  {
   "cell_type": "code",
   "execution_count": 19,
   "metadata": {},
   "outputs": [
    {
     "data": {
      "text/plain": [
       "''"
      ]
     },
     "execution_count": 19,
     "metadata": {},
     "output_type": "execute_result"
    }
   ],
   "source": [
    "\"\"\"# Create the utility matrix and the binary matrix\n",
    "Y, R = utility_matrix_AND_binary_matrix(df_train)\n",
    "Y, R = Y.toarray(), R.toarray()\n",
    "\n",
    "\n",
    "# Shuffle the DataFrame randomly and split it into 8 parts\n",
    "df_shuffled = df_train.sample(frac=1, random_state=42).reset_index(drop=True)\n",
    "folds = np.array_split(df_shuffled, 8)\n",
    "\n",
    "dict_RMSE = {}\n",
    "for fold in range(8):\n",
    "    merged_df = pd.concat([part for i, part in enumerate(folds) if i != fold])\n",
    "\n",
    "    # Define the initial parameters\n",
    "    X = X\n",
    "    Theta = np.random.normal(loc=0, scale=0.3, size=(num_users, num_features))\n",
    "    params = Theta\n",
    "    for train_set_size in [0.1, 0.2, 0.3, 0.4, 0.5, 0.6, 0.7, 0.8, 0.9, 1.0]:\n",
    "\n",
    "        merged_df_sized = merged_df.sample(frac=train_set_size, random_state=42)\n",
    "\n",
    "        Y, R = utility_matrix_AND_binary_matrix(merged_df_sized)\n",
    "        Y, R = Y.toarray(), R.toarray()\n",
    "\n",
    "        \n",
    "    \n",
    "        # Apply gradient descent\n",
    "        param, jhist = gradientDescent_Xknown(params,X,Y,R,num_users,num_movies,num_features,best_alpha,750,best_lambda)\n",
    "\n",
    "        # Unfold the final parameters\n",
    "        X = X\n",
    "        Theta = param\n",
    "\n",
    "        # Predict all ratings of num_users for num_movies\n",
    "        p = X @ Theta.T\n",
    "\n",
    "        df_to_evaluate = folds[fold]\n",
    "        RMSE = 0\n",
    "        for i, row in df_to_evaluate.iterrows():\n",
    "            movieId_matrix = ids[\"moviesIDs\"][str(int(row[\"movieId\"]))]\n",
    "            userId_matrix = ids[\"userIDs\"][str(int(row[\"userId\"]))]\n",
    "            RMSE += abs(row[\"rating\"] - p[int(movieId_matrix), int(userId_matrix)])**2\n",
    "        RMSE = np.sqrt(RMSE/len(df_to_evaluate))\n",
    "        dict_RMSE[(fold, train_set_size, \"test\")] = RMSE\n",
    "\n",
    "        df_to_evaluate = merged_df\n",
    "        RMSE = 0\n",
    "        for i, row in df_to_evaluate.iterrows():\n",
    "            movieId_matrix = ids[\"moviesIDs\"][str(int(row[\"movieId\"]))]\n",
    "            userId_matrix = ids[\"userIDs\"][str(int(row[\"userId\"]))]\n",
    "            RMSE += abs(row[\"rating\"] - p[int(movieId_matrix), int(userId_matrix)])**2\n",
    "        RMSE = np.sqrt(RMSE/len(df_to_evaluate))\n",
    "        dict_RMSE[(fold, train_set_size, \"train\")] = RMSE\n",
    "\n",
    "        print(f\"Fold {fold+1} with {train_set_size} in train_set_size: done\")\"\"\"\n",
    "\"\" # data saved as learning_curve_data"
   ]
  },
  {
   "cell_type": "code",
   "execution_count": 20,
   "metadata": {},
   "outputs": [],
   "source": [
    "learning_curve_data = {(0, 0.1, 'test'): 1.53127765614101,\n",
    " (0, 0.1, 'train'): 1.492795353454827,\n",
    " (0, 0.2, 'test'): 1.2859622778419324,\n",
    " (0, 0.2, 'train'): 1.217465461187198,\n",
    " (0, 0.3, 'test'): 1.1733420788314464,\n",
    " (0, 0.3, 'train'): 1.0906314416958256,\n",
    " (0, 0.4, 'test'): 1.1069542350298458,\n",
    " (0, 0.4, 'train'): 1.0112306388410754,\n",
    " (0, 0.5, 'test'): 1.060931124863778,\n",
    " (0, 0.5, 'train'): 0.9592049314658372,\n",
    " (0, 0.6, 'test'): 1.0252008788651128,\n",
    " (0, 0.6, 'train'): 0.9225158837181894,\n",
    " (0, 0.7, 'test'): 1.0072500532930566,\n",
    " (0, 0.7, 'train'): 0.896668557991683,\n",
    " (0, 0.8, 'test'): 0.9901187543258922,\n",
    " (0, 0.8, 'train'): 0.8766831275295348,\n",
    " (0, 0.9, 'test'): 0.9769690422903031,\n",
    " (0, 0.9, 'train'): 0.8599592981352149,\n",
    " (0, 1.0, 'test'): 0.9681025208479292,\n",
    " (0, 1.0, 'train'): 0.847054604455713,\n",
    " (1, 0.1, 'test'): 1.5508547449272803,\n",
    " (1, 0.1, 'train'): 1.492219436882351,\n",
    " (1, 0.2, 'test'): 1.296127477436866,\n",
    " (1, 0.2, 'train'): 1.2160823856194773,\n",
    " (1, 0.3, 'test'): 1.178117176867599,\n",
    " (1, 0.3, 'train'): 1.0857600944703185,\n",
    " (1, 0.4, 'test'): 1.1140548729607034,\n",
    " (1, 0.4, 'train'): 1.0059880008992443,\n",
    " (1, 0.5, 'test'): 1.0702674976622932,\n",
    " (1, 0.5, 'train'): 0.9560900072545507,\n",
    " (1, 0.6, 'test'): 1.0413937849907593,\n",
    " (1, 0.6, 'train'): 0.9213650900893149,\n",
    " (1, 0.7, 'test'): 1.0216286586431607,\n",
    " (1, 0.7, 'train'): 0.8943299320117399,\n",
    " (1, 0.8, 'test'): 1.007460265463797,\n",
    " (1, 0.8, 'train'): 0.8739025606868156,\n",
    " (1, 0.9, 'test'): 0.9934389179699841,\n",
    " (1, 0.9, 'train'): 0.8578077771187346,\n",
    " (1, 1.0, 'test'): 0.9858015054905305,\n",
    " (1, 1.0, 'train'): 0.8451963935301586,\n",
    " (2, 0.1, 'test'): 1.5606750609673832,\n",
    " (2, 0.1, 'train'): 1.4992881205389168,\n",
    " (2, 0.2, 'test'): 1.2989617374349425,\n",
    " (2, 0.2, 'train'): 1.2150617357075815,\n",
    " (2, 0.3, 'test'): 1.1804064950900788,\n",
    " (2, 0.3, 'train'): 1.0874216118540818,\n",
    " (2, 0.4, 'test'): 1.110993203530357,\n",
    " (2, 0.4, 'train'): 1.0072309454058133,\n",
    " (2, 0.5, 'test'): 1.0709651795012887,\n",
    " (2, 0.5, 'train'): 0.9557959305727405,\n",
    " (2, 0.6, 'test'): 1.0496937439131697,\n",
    " (2, 0.6, 'train'): 0.9217134343830263,\n",
    " (2, 0.7, 'test'): 1.0294664214945848,\n",
    " (2, 0.7, 'train'): 0.8940531361184684,\n",
    " (2, 0.8, 'test'): 1.0108450225769219,\n",
    " (2, 0.8, 'train'): 0.8737319758134868,\n",
    " (2, 0.9, 'test'): 0.9958519240538349,\n",
    " (2, 0.9, 'train'): 0.8576320246931025,\n",
    " (2, 1.0, 'test'): 0.9870786463080197,\n",
    " (2, 1.0, 'train'): 0.8441405305463902,\n",
    " (3, 0.1, 'test'): 1.5450606285396478,\n",
    " (3, 0.1, 'train'): 1.5045144800767536,\n",
    " (3, 0.2, 'test'): 1.299923114313477,\n",
    " (3, 0.2, 'train'): 1.2177789258145972,\n",
    " (3, 0.3, 'test'): 1.1861031531950508,\n",
    " (3, 0.3, 'train'): 1.0904302230841243,\n",
    " (3, 0.4, 'test'): 1.1104122511893648,\n",
    " (3, 0.4, 'train'): 1.0077913931489069,\n",
    " (3, 0.5, 'test'): 1.068006997831624,\n",
    " (3, 0.5, 'train'): 0.958655500263749,\n",
    " (3, 0.6, 'test'): 1.0354020738109573,\n",
    " (3, 0.6, 'train'): 0.9234884178712919,\n",
    " (3, 0.7, 'test'): 1.013728710663743,\n",
    " (3, 0.7, 'train'): 0.8953893080932418,\n",
    " (3, 0.8, 'test'): 1.000488836192995,\n",
    " (3, 0.8, 'train'): 0.8762879625990898,\n",
    " (3, 0.9, 'test'): 0.9888156725654428,\n",
    " (3, 0.9, 'train'): 0.8601062855676483,\n",
    " (3, 1.0, 'test'): 0.9767180881004776,\n",
    " (3, 1.0, 'train'): 0.8459873997992015,\n",
    " (4, 0.1, 'test'): 1.5489484744464368,\n",
    " (4, 0.1, 'train'): 1.4921025782761985,\n",
    " (4, 0.2, 'test'): 1.2881067652035219,\n",
    " (4, 0.2, 'train'): 1.2081145730859892,\n",
    " (4, 0.3, 'test'): 1.1679910566692555,\n",
    " (4, 0.3, 'train'): 1.0804993191037457,\n",
    " (4, 0.4, 'test'): 1.0979092877374999,\n",
    " (4, 0.4, 'train'): 1.007408532341462,\n",
    " (4, 0.5, 'test'): 1.0592453962556458,\n",
    " (4, 0.5, 'train'): 0.9586421217991384,\n",
    " (4, 0.6, 'test'): 1.036085062151326,\n",
    " (4, 0.6, 'train'): 0.9223481495201314,\n",
    " (4, 0.7, 'test'): 1.0144719036480625,\n",
    " (4, 0.7, 'train'): 0.8976332789843016,\n",
    " (4, 0.8, 'test'): 1.0010578344753738,\n",
    " (4, 0.8, 'train'): 0.8762146158342411,\n",
    " (4, 0.9, 'test'): 0.9873659631515226,\n",
    " (4, 0.9, 'train'): 0.8597422099827043,\n",
    " (4, 1.0, 'test'): 0.9761516770910098,\n",
    " (4, 1.0, 'train'): 0.8451629700864527,\n",
    " (5, 0.1, 'test'): 1.5511292068375875,\n",
    " (5, 0.1, 'train'): 1.4873922972376854,\n",
    " (5, 0.2, 'test'): 1.2993676966279835,\n",
    " (5, 0.2, 'train'): 1.2125899045913842,\n",
    " (5, 0.3, 'test'): 1.1775918391625373,\n",
    " (5, 0.3, 'train'): 1.0777111798463594,\n",
    " (5, 0.4, 'test'): 1.113296218697666,\n",
    " (5, 0.4, 'train'): 1.004470361657755,\n",
    " (5, 0.5, 'test'): 1.0772507336391628,\n",
    " (5, 0.5, 'train'): 0.9561235751246856,\n",
    " (5, 0.6, 'test'): 1.041527198759212,\n",
    " (5, 0.6, 'train'): 0.9203187458791408,\n",
    " (5, 0.7, 'test'): 1.0239370164479271,\n",
    " (5, 0.7, 'train'): 0.8956923320667253,\n",
    " (5, 0.8, 'test'): 1.004940888892778,\n",
    " (5, 0.8, 'train'): 0.8747654914956143,\n",
    " (5, 0.9, 'test'): 0.9938309584783817,\n",
    " (5, 0.9, 'train'): 0.8588569641381977,\n",
    " (5, 1.0, 'test'): 0.9847877372593565,\n",
    " (5, 1.0, 'train'): 0.8453318726282865,\n",
    " (6, 0.1, 'test'): 1.5383629852880967,\n",
    " (6, 0.1, 'train'): 1.4857288439400151,\n",
    " (6, 0.2, 'test'): 1.265537885781064,\n",
    " (6, 0.2, 'train'): 1.2093522401953973,\n",
    " (6, 0.3, 'test'): 1.1609878387871622,\n",
    " (6, 0.3, 'train'): 1.0814942149316904,\n",
    " (6, 0.4, 'test'): 1.0915479728032766,\n",
    " (6, 0.4, 'train'): 1.0040010567827942,\n",
    " (6, 0.5, 'test'): 1.0550449538666602,\n",
    " (6, 0.5, 'train'): 0.9567274034476072,\n",
    " (6, 0.6, 'test'): 1.0272195329444294,\n",
    " (6, 0.6, 'train'): 0.9198139314430425,\n",
    " (6, 0.7, 'test'): 1.0086996780655186,\n",
    " (6, 0.7, 'train'): 0.8957226975302848,\n",
    " (6, 0.8, 'test'): 0.9944183458871884,\n",
    " (6, 0.8, 'train'): 0.87544134881401,\n",
    " (6, 0.9, 'test'): 0.9826158437839899,\n",
    " (6, 0.9, 'train'): 0.8594347186547312,\n",
    " (6, 1.0, 'test'): 0.9720211488838543,\n",
    " (6, 1.0, 'train'): 0.8458032294504997,\n",
    " (7, 0.1, 'test'): 1.5400718568014407,\n",
    " (7, 0.1, 'train'): 1.4835401539672899,\n",
    " (7, 0.2, 'test'): 1.2884753327111604,\n",
    " (7, 0.2, 'train'): 1.2064824395756226,\n",
    " (7, 0.3, 'test'): 1.1753861340917584,\n",
    " (7, 0.3, 'train'): 1.0760623087576882,\n",
    " (7, 0.4, 'test'): 1.101119198161465,\n",
    " (7, 0.4, 'train'): 0.9985176447060762,\n",
    " (7, 0.5, 'test'): 1.061120605893413,\n",
    " (7, 0.5, 'train'): 0.9529257655977127,\n",
    " (7, 0.6, 'test'): 1.0329619890769564,\n",
    " (7, 0.6, 'train'): 0.9157633099861477,\n",
    " (7, 0.7, 'test'): 1.018698809385401,\n",
    " (7, 0.7, 'train'): 0.8928021716929795,\n",
    " (7, 0.8, 'test'): 1.0038368706009577,\n",
    " (7, 0.8, 'train'): 0.8731683323435824,\n",
    " (7, 0.9, 'test'): 0.9946314535353381,\n",
    " (7, 0.9, 'train'): 0.8582139895895109,\n",
    " (7, 1.0, 'test'): 0.9832845286478705,\n",
    " (7, 1.0, 'train'): 0.8450095458798668}"
   ]
  },
  {
   "cell_type": "code",
   "execution_count": 21,
   "metadata": {},
   "outputs": [
    {
     "data": {
      "image/png": "[encoded data removed]",
      "text/plain": [
       "<Figure size 800x500 with 1 Axes>"
      ]
     },
     "metadata": {},
     "output_type": "display_data"
    }
   ],
   "source": [
    "import matplotlib.pyplot as plt\n",
    "import numpy as np\n",
    "from collections import defaultdict\n",
    "\n",
    "#data = dict_RMSE_stored_ITERATIONS\n",
    "data = learning_curve_data\n",
    "\n",
    "\n",
    "def plot_learning_curve(dataset):\n",
    "    # Step 1: Group by j\n",
    "    grouped_data = defaultdict(list)\n",
    "    for (i, j, set), k in data.items():\n",
    "        if set == dataset and j != 0:\n",
    "            grouped_data[j].append(k)\n",
    "\n",
    "    # Step 2: Calculate statistics\n",
    "    mean_accuracy = []\n",
    "    std_accuracy = []\n",
    "    min_a = []\n",
    "    max_a = []\n",
    "    iterations = sorted(grouped_data.keys())  # Ensure ordered by j\n",
    "\n",
    "    for j in iterations:\n",
    "        values = grouped_data[j]\n",
    "        mean_accuracy.append(np.mean(values))\n",
    "        std_accuracy.append(np.std(values))\n",
    "        min_a.append(np.min(values))\n",
    "        max_a.append(np.max(values))\n",
    "\n",
    "    # Step 3: Plot the curve with shaded area\n",
    "    mean_accuracy = np.array(mean_accuracy)\n",
    "    std_accuracy = np.array(std_accuracy)\n",
    "\n",
    "    if dataset == \"train\":\n",
    "        plt.plot(np.array(iterations)*100, mean_accuracy, \"-o\", label=\"Training score\", color=\"blue\")\n",
    "        plt.fill_between(\n",
    "            np.array(iterations)*100, \n",
    "            min_a, #mean_accuracy - std_accuracy, \n",
    "            max_a, #mean_accuracy + std_accuracy, \n",
    "            color=\"blue\", alpha=0.2\n",
    "        )\n",
    "    else:\n",
    "        plt.plot(np.array(iterations)*100, mean_accuracy, \"-o\", label=\"Cross-validation score\", color=\"green\")\n",
    "        plt.fill_between(\n",
    "            np.array(iterations)*100, \n",
    "            min_a, #mean_accuracy - std_accuracy, \n",
    "            max_a, #mean_accuracy + std_accuracy, \n",
    "            color=\"green\", alpha=0.2\n",
    "        )\n",
    "\n",
    "plt.figure(figsize=(8, 5))\n",
    "plot_learning_curve(\"train\")\n",
    "plot_learning_curve(\"test\")\n",
    "\n",
    "# Step 4: Add labels and legend\n",
    "plt.xlabel(r\"Train Set Size (\\%)\")\n",
    "plt.ylabel(\"8-Fold Cross-Validation RMSE\")\n",
    "plt.title(\"Learning Curve for HAISDHAIUSHDIAUSHDIAUHSD\")\n",
    "plt.legend()\n",
    "plt.grid()\n",
    "plt.tight_layout()\n",
    "#plt.savefig(\"assets/model02_learning_curve.png\")\n",
    "plt.show()"
   ]
  },
  {
   "cell_type": "markdown",
   "metadata": {},
   "source": [
    "## Saving the model"
   ]
  },
  {
   "cell_type": "code",
   "execution_count": null,
   "metadata": {},
   "outputs": [],
   "source": [
    "import json\n",
    "\n",
    "\"\"\"with open(\"data/models.json\", \"r\") as file:\n",
    "    dicio_model = json.load(file)\n",
    "\n",
    "dicio_model[\"model02\"] = {\"x\": X.tolist(), \"theta\": Theta.tolist(), \"lambda\": best_lambda, \"alpha\": best_alpha, \"iterations\": 750}\n",
    "\n",
    "with open(\"data/models.json\", \"w\") as file:\n",
    "    json.dump(dicio_model, file, indent=4)\"\"\"\n",
    "#\"\" # dont store every run"
   ]
  },
  {
   "cell_type": "code",
   "execution_count": 23,
   "metadata": {},
   "outputs": [
    {
     "data": {
      "text/plain": [
       "''"
      ]
     },
     "execution_count": 23,
     "metadata": {},
     "output_type": "execute_result"
    }
   ],
   "source": [
    "\"\"\"with open(\"data/models.json\", \"r\") as file:\n",
    "    dicio_model = json.load(file)\n",
    "\n",
    "x = np.array(dicio_model[\"model02\"][\"x\"])\n",
    "theta = np.array(dicio_model[\"model02\"][\"theta\"])\n",
    "\n",
    "p = x @ theta.T\"\"\"\n",
    "\"\" # test import the model"
   ]
  }
 ],
 "metadata": {
  "kernelspec": {
   "display_name": "FAA",
   "language": "python",
   "name": "python3"
  },
  "language_info": {
   "codemirror_mode": {
    "name": "ipython",
    "version": 3
   },
   "file_extension": ".py",
   "mimetype": "text/x-python",
   "name": "python",
   "nbconvert_exporter": "python",
   "pygments_lexer": "ipython3",
   "version": "3.10.15"
  }
 },
 "nbformat": 4,
 "nbformat_minor": 2
}

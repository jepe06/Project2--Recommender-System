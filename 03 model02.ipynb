{
 "cells": [
  {
   "cell_type": "markdown",
   "metadata": {},
   "source": [
    "# MODELO 2 - sabendo genero do filme\n",
    "\n",
    "# POR ACABAR !!!!!!!!!!"
   ]
  },
  {
   "cell_type": "code",
   "execution_count": 1,
   "metadata": {},
   "outputs": [],
   "source": [
    "import pandas as pd\n",
    "import numpy as np\n",
    "import json\n",
    "import matplotlib.pyplot as plt\n",
    "import warnings\n",
    "\n",
    "#warnings.filterwarnings(\"ignore\")"
   ]
  },
  {
   "cell_type": "markdown",
   "metadata": {},
   "source": [
    "# Load the data"
   ]
  },
  {
   "cell_type": "code",
   "execution_count": 2,
   "metadata": {},
   "outputs": [],
   "source": [
    "df_train = pd.read_csv(\"data/data_train.csv\")\n",
    "df_test = pd.read_csv(\"data/data_test.csv\")"
   ]
  },
  {
   "cell_type": "code",
   "execution_count": 3,
   "metadata": {},
   "outputs": [
    {
     "data": {
      "text/plain": [
       "(9633, 385)"
      ]
     },
     "execution_count": 3,
     "metadata": {},
     "output_type": "execute_result"
    }
   ],
   "source": [
    "with open(\"data/data_ids.json\") as f:\n",
    "    ids = json.load(f)\n",
    "\n",
    "max_movieId = max(ids[\"moviesIDs\"].values())\n",
    "max_userId = max(ids[\"userIDs\"].values())\n",
    "\n",
    "# Create a matrix of users and movies\n",
    "base_matrix = np.zeros((max_movieId + 1, max_userId + 1))\n",
    "base_matrix.shape"
   ]
  },
  {
   "cell_type": "code",
   "execution_count": 4,
   "metadata": {},
   "outputs": [],
   "source": [
    "df_genre = pd.read_csv(\"data/movies.csv\")"
   ]
  },
  {
   "cell_type": "markdown",
   "metadata": {},
   "source": [
    "# Define functions"
   ]
  },
  {
   "cell_type": "code",
   "execution_count": 5,
   "metadata": {},
   "outputs": [],
   "source": [
    "# Utility matrix and Binary matrix\n",
    "from scipy.sparse import lil_matrix\n",
    "\n",
    "def utility_matrix_AND_binary_matrix(dfTrain, zerosMatrix = base_matrix, jsonIds = ids):\n",
    "    Y = lil_matrix(zerosMatrix.shape)  # Use sparse matrix format\n",
    "    R = lil_matrix(zerosMatrix.shape)\n",
    "    for i, row in dfTrain.iterrows():\n",
    "        original_movieId, original_userId = int(row[\"movieId\"]), int(row[\"userId\"])\n",
    "        movieId = jsonIds[\"moviesIDs\"][str(original_movieId)]\n",
    "        userId = jsonIds[\"userIDs\"][str(original_userId)]\n",
    "        Y[movieId, userId] = row[\"rating\"]\n",
    "        R[movieId, userId] = 1\n",
    "    return Y, R"
   ]
  },
  {
   "cell_type": "code",
   "execution_count": 6,
   "metadata": {},
   "outputs": [],
   "source": [
    "def cofiCostFunc_Xknown(params, X, Y, R, num_users, num_movies, num_features, Lambda):\n",
    "    \"\"\"\n",
    "    Returns the cost and gradient for the collaborative filtering\n",
    "    Lambda - regularization parameter\n",
    "    \"\"\"\n",
    "        \n",
    "    # Unfold the params\n",
    "    Theta = params\n",
    "    \n",
    "    predictions =  X @ Theta.T\n",
    "    err = (predictions - Y)\n",
    "    J = 1/2 * np.sum((err**2) * R)\n",
    "    \n",
    "    #compute regularized cost function\n",
    "    reg_Theta = Lambda/2 *np.sum(Theta**2)\n",
    "    reg_J = J + reg_Theta\n",
    "    \n",
    "    # Compute gradient\n",
    "    Theta_grad = (err*R).T @ X\n",
    "    grad = Theta_grad\n",
    "    \n",
    "    # Compute regularized gradient\n",
    "    reg_Theta_grad = Theta_grad + Lambda*Theta\n",
    "    reg_grad = reg_Theta_grad\n",
    "    \n",
    "    return J, grad, reg_J, reg_grad"
   ]
  },
  {
   "cell_type": "code",
   "execution_count": 7,
   "metadata": {},
   "outputs": [],
   "source": [
    "def gradientDescent_Xknown(initial_parameters,X,Y,R,num_users,num_movies,num_features,alpha,num_iters,Lambda):\n",
    "    \"\"\"\n",
    "    alpha - learning rate\n",
    "    Optimize X and Theta\n",
    "    \"\"\"\n",
    "    # unfold the initial parameters (consult function cofiCostFunc)\n",
    "    Theta = initial_parameters\n",
    "    \n",
    "    J_history =[]\n",
    "    \n",
    "    for i in range(num_iters):\n",
    "        #Append into a single vector params X and Theta (see above)\n",
    "        params = Theta\n",
    "        cost, Theta_grad = cofiCostFunc_Xknown(params, X, Y, R, num_users, num_movies, num_features, Lambda)[2:]\n",
    "        \n",
    "        #Update trainable parameters X & Theta applying gradient descent method        \n",
    "        Theta = Theta - alpha*Theta_grad\n",
    "        \n",
    "        J_history.append(cost)\n",
    "    \n",
    "    #Append into a single vector paramsFinal the updated X and Theta\n",
    "    paramsFinal = Theta\n",
    "    return paramsFinal , J_history"
   ]
  },
  {
   "cell_type": "markdown",
   "metadata": {},
   "source": [
    "# Set model features: X (movies genres as features)"
   ]
  },
  {
   "cell_type": "code",
   "execution_count": 8,
   "metadata": {},
   "outputs": [
    {
     "data": {
      "text/plain": [
       "(9633, 20)"
      ]
     },
     "execution_count": 8,
     "metadata": {},
     "output_type": "execute_result"
    }
   ],
   "source": [
    "num_movies, num_users = base_matrix.shape\n",
    "\n",
    "genres = df_genre[\"genres\"].str.split(\"|\").tolist()\n",
    "genres = {genre: 0 for sublist in genres for genre in sublist}\n",
    "# create X: movies features\n",
    "X = np.zeros((num_movies, len(genres))) # 20 genres\n",
    "for movie in ids[\"moviesIDs\"]:\n",
    "    movieId_matrix = ids[\"moviesIDs\"][movie]\n",
    "    genre_dict = genres.copy()\n",
    "    genres_list = df_genre[df_genre[\"movieId\"] == int(movie)][\"genres\"].str.split(\"|\").tolist()[0]\n",
    "    for genre in genres_list:\n",
    "        genre_dict[genre] = 1 / len(genres_list)\n",
    "    X[movieId_matrix] = list(genre_dict.values())\n",
    "\n",
    "X.shape\n",
    "\n",
    "\n",
    "# for later on Theta: users \n",
    "#num_features = len(genres)\n",
    "#Theta = np.random.normal(loc=0, scale=0.3, size=(num_users, num_features))\n",
    "\n",
    "#params = np.append(X.flatten(),Theta.flatten())\n",
    "#, Theta.shape"
   ]
  },
  {
   "cell_type": "code",
   "execution_count": 9,
   "metadata": {},
   "outputs": [
    {
     "data": {
      "text/plain": [
       "(9633, 20)"
      ]
     },
     "execution_count": 9,
     "metadata": {},
     "output_type": "execute_result"
    }
   ],
   "source": [
    "X.shape"
   ]
  },
  {
   "cell_type": "code",
   "execution_count": 10,
   "metadata": {},
   "outputs": [],
   "source": [
    "num_features = len(genres)\n",
    "Theta = np.random.normal(loc=0, scale=0.3, size=(num_users, num_features))\n",
    "Y, R = utility_matrix_AND_binary_matrix(df_train)\n",
    "Y, R = Y.toarray(), R.toarray()\n",
    "Lambda = 1\n",
    "\n",
    "params = Theta"
   ]
  },
  {
   "cell_type": "code",
   "execution_count": 11,
   "metadata": {},
   "outputs": [
    {
     "data": {
      "text/plain": [
       "[<matplotlib.lines.Line2D at 0x1304e33d0>]"
      ]
     },
     "execution_count": 11,
     "metadata": {},
     "output_type": "execute_result"
    },
    {
     "data": {
      "image/png": "[encoded data removed]",
      "text/plain": [
       "<Figure size 640x480 with 1 Axes>"
      ]
     },
     "metadata": {},
     "output_type": "display_data"
    }
   ],
   "source": [
    "initial_parameters = Theta\n",
    "alpha = 0.001\n",
    "num_iters = 500\n",
    "a,b = gradientDescent_Xknown(initial_parameters,X,Y,R,num_users,num_movies,num_features,alpha,num_iters,Lambda)\n",
    "plt.plot(b)"
   ]
  },
  {
   "cell_type": "code",
   "execution_count": 12,
   "metadata": {},
   "outputs": [
    {
     "data": {
      "text/plain": [
       "array([[ 4.98501606,  3.24956909,  4.25376761, ...,  1.16430373,\n",
       "        -0.05247177, -0.07035556],\n",
       "       [ 3.21155922,  1.23199669,  1.83124178, ...,  2.0773437 ,\n",
       "         0.42064939,  0.18845401],\n",
       "       [ 4.11929375,  1.78829831,  3.57053664, ...,  2.27458506,\n",
       "         0.19917174, -0.02130708],\n",
       "       ...,\n",
       "       [ 2.73015617,  0.92968082,  2.1909154 , ...,  0.63035327,\n",
       "         0.26699814, -0.06435152],\n",
       "       [ 3.68105972,  3.2793973 ,  1.07395743, ...,  1.24564348,\n",
       "         0.6488068 , -0.13678569],\n",
       "       [ 4.05392019,  3.81489501,  2.53027942, ...,  3.18979092,\n",
       "         0.93475599,  0.30471283]], shape=(385, 20))"
      ]
     },
     "execution_count": 12,
     "metadata": {},
     "output_type": "execute_result"
    }
   ],
   "source": [
    "a"
   ]
  },
  {
   "cell_type": "markdown",
   "metadata": {},
   "source": [
    "# A FALTAR 8CV, E ESSAS TRETAS TODAS, SO TEMOS FUNCOES DE CUSTO O E POUCO MAIS"
   ]
  },
  {
   "cell_type": "code",
   "execution_count": null,
   "metadata": {},
   "outputs": [],
   "source": []
  }
 ],
 "metadata": {
  "kernelspec": {
   "display_name": "FAA",
   "language": "python",
   "name": "python3"
  },
  "language_info": {
   "codemirror_mode": {
    "name": "ipython",
    "version": 3
   },
   "file_extension": ".py",
   "mimetype": "text/x-python",
   "name": "python",
   "nbconvert_exporter": "python",
   "pygments_lexer": "ipython3",
   "version": "3.10.15"
  }
 },
 "nbformat": 4,
 "nbformat_minor": 2
}
